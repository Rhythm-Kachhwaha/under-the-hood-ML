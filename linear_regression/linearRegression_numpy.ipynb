{
 "cells": [
  {
   "cell_type": "markdown",
   "id": "08894962",
   "metadata": {},
   "source": [
    "# Linear Regression from Scratch only using numpy"
   ]
  },
  {
   "cell_type": "code",
   "execution_count": 26,
   "id": "174fc63d",
   "metadata": {},
   "outputs": [],
   "source": [
    "import numpy as np\n",
    "import time\n",
    "import matplotlib.pyplot as plt"
   ]
  },
  {
   "cell_type": "markdown",
   "id": "7e6df2fa",
   "metadata": {},
   "source": [
    "### Data prep"
   ]
  },
  {
   "cell_type": "code",
   "execution_count": 27,
   "id": "c0903c2e",
   "metadata": {},
   "outputs": [],
   "source": [
    "start = 0\n",
    "end = 1\n",
    "step = 0.02\n",
    "\n",
    "\n",
    "### true params\n",
    "weight = 0.7\n",
    "bias = 0.3\n",
    "\n",
    "X = np.arange(start, end, step)\n",
    "X = np.expand_dims(X, axis = 1)\n",
    "y = weight * X + bias"
   ]
  },
  {
   "cell_type": "code",
   "execution_count": 28,
   "id": "b64d12d0",
   "metadata": {},
   "outputs": [
    {
     "name": "stdout",
     "output_type": "stream",
     "text": [
      "Size of X : 50\n",
      "Shape of X : (50, 1)\n"
     ]
    }
   ],
   "source": [
    "print(f\"Size of X : {np.size(X)}\")\n",
    "print(f\"Shape of X : {np.shape(X)}\")"
   ]
  },
  {
   "cell_type": "code",
   "execution_count": 29,
   "id": "baa39ac5",
   "metadata": {},
   "outputs": [
    {
     "data": {
      "text/plain": [
       "(array([[0.  ],\n",
       "        [0.02],\n",
       "        [0.04],\n",
       "        [0.06],\n",
       "        [0.08],\n",
       "        [0.1 ],\n",
       "        [0.12],\n",
       "        [0.14],\n",
       "        [0.16],\n",
       "        [0.18]]),\n",
       " array([[0.3  ],\n",
       "        [0.314],\n",
       "        [0.328],\n",
       "        [0.342],\n",
       "        [0.356],\n",
       "        [0.37 ],\n",
       "        [0.384],\n",
       "        [0.398],\n",
       "        [0.412],\n",
       "        [0.426]]))"
      ]
     },
     "execution_count": 29,
     "metadata": {},
     "output_type": "execute_result"
    }
   ],
   "source": [
    "X[:10], y[:10]"
   ]
  },
  {
   "cell_type": "markdown",
   "id": "8480dbc1",
   "metadata": {},
   "source": [
    "### train test split\n",
    "\n"
   ]
  },
  {
   "cell_type": "code",
   "execution_count": 30,
   "id": "336af04e",
   "metadata": {},
   "outputs": [
    {
     "data": {
      "text/plain": [
       "(40, 40, 10, 10)"
      ]
     },
     "execution_count": 30,
     "metadata": {},
     "output_type": "execute_result"
    }
   ],
   "source": [
    "train_split = int(0.8*len(X))\n",
    "X_train , y_train = X[:train_split],y[:train_split]\n",
    "X_test , y_test = X[train_split:],y[train_split:]\n",
    "len(X_train),len(y_train),len(X_test),len(y_test)\n"
   ]
  },
  {
   "cell_type": "markdown",
   "id": "fd5b05cc",
   "metadata": {},
   "source": [
    "### Visualising the data"
   ]
  },
  {
   "cell_type": "code",
   "execution_count": null,
   "id": "6f308121",
   "metadata": {},
   "outputs": [],
   "source": [
    "import matplotlib.pyplot as plt\n",
    "\n",
    "def plot_predictions(train_data, train_labels, test_data, test_labels, predictions=None):\n",
    "    plt.figure(figsize=(10,7))\n",
    "\n",
    "    # Train data\n",
    "    plt.scatter(train_data, train_labels, c=\"b\", s=4, label=\"Training data\")\n",
    "\n",
    "    # Test data\n",
    "    plt.scatter(test_data, test_labels, c=\"g\", s=4, label=\"Test data\")\n",
    "\n",
    "    # Predictions\n",
    "    if predictions is not None:\n",
    "        plt.scatter(test_data, predictions, c=\"r\", s=4, label=\"Predictions\")\n",
    "\n",
    "    plt.legend(prop={\"size\":14})\n",
    "    plt.show()\n"
   ]
  },
  {
   "cell_type": "code",
   "execution_count": 32,
   "id": "6b26e9bb",
   "metadata": {},
   "outputs": [
    {
     "data": {
      "image/png": "[encoded data removed]",
      "text/plain": [
       "<Figure size 1000x700 with 1 Axes>"
      ]
     },
     "metadata": {},
     "output_type": "display_data"
    }
   ],
   "source": [
    "plot_predictions(X_train, y_train, X_test, y_test, predictions=None)\n"
   ]
  },
  {
   "cell_type": "markdown",
   "id": "0014d250",
   "metadata": {},
   "source": [
    "### Building a model"
   ]
  },
  {
   "cell_type": "code",
   "execution_count": 33,
   "id": "df4787dd",
   "metadata": {},
   "outputs": [],
   "source": [
    "from typing import Any\n",
    "\n",
    "class LinearRegression:\n",
    "    def __init__(self):\n",
    "\n",
    "        ### randomly initialize weights and bias\n",
    "        self.weights = np.random.randn(1).astype(float)\n",
    "        self.bias = np.random.randn(1).astype(float)\n",
    "\n",
    "    def forward(self,x: np.ndarray) -> np.ndarray:\n",
    "        return self.weights * x + self.bias #(linear regression)\n",
    "\n",
    "    def __call__(self, x:np.ndarray) -> np.ndarray:\n",
    "        return self.forward(x)\n",
    "    \n",
    "    def parameters(self):\n",
    "        return [self.weights,self.bias]\n",
    "\n",
    "    def step(self, X, y, lr = 0.01):\n",
    "        y_pred = self.forward(X)\n",
    "\n",
    "        #Gradients\n",
    "        N = len(X)\n",
    "\n",
    "        dw = (-2/N) * np.sum(X * (y - y_pred))\n",
    "        db = (-2/N) * np.sum(y - y_pred)\n",
    "\n",
    "        #update\n",
    "        self.weights = self.weights - lr * dw\n",
    "        self.bias = self.bias - lr *db\n",
    "\n",
    "        #return loss to track\n",
    "        loss = np.mean((y-y_pred)**2)\n",
    "        return loss"
   ]
  },
  {
   "cell_type": "code",
   "execution_count": 34,
   "id": "588dca07",
   "metadata": {},
   "outputs": [
    {
     "name": "stdout",
     "output_type": "stream",
     "text": [
      "[array([1.2336385]), array([-0.35202334])]\n"
     ]
    }
   ],
   "source": [
    "model_0 = LinearRegression()\n",
    "print(model_0.parameters())"
   ]
  },
  {
   "cell_type": "code",
   "execution_count": 35,
   "id": "4dc06945",
   "metadata": {},
   "outputs": [
    {
     "data": {
      "text/plain": [
       "array([[0.63488746],\n",
       "       [0.65956023],\n",
       "       [0.684233  ],\n",
       "       [0.70890577],\n",
       "       [0.73357854],\n",
       "       [0.75825131],\n",
       "       [0.78292408],\n",
       "       [0.80759685],\n",
       "       [0.83226962],\n",
       "       [0.85694239]])"
      ]
     },
     "execution_count": 35,
     "metadata": {},
     "output_type": "execute_result"
    }
   ],
   "source": [
    "y_preds = model_0(X_test)\n",
    "y_preds"
   ]
  },
  {
   "cell_type": "markdown",
   "id": "94dd91b9",
   "metadata": {},
   "source": [
    "### Now comes the MATH"
   ]
  },
  {
   "cell_type": "markdown",
   "id": "3db3dbe4",
   "metadata": {},
   "source": [
    "## loss function : MSE (Mean Squared Error)"
   ]
  },
  {
   "cell_type": "code",
   "execution_count": 36,
   "id": "3959ae5a",
   "metadata": {},
   "outputs": [],
   "source": [
    "def loss_fn(y_true,y_pred):\n",
    "    errors = y_true-y_pred\n",
    "    square_errors = errors ** 2\n",
    "    loss = np.mean(square_errors)\n",
    "    return loss"
   ]
  },
  {
   "cell_type": "markdown",
   "id": "951ede1f",
   "metadata": {},
   "source": [
    "### Optimizer"
   ]
  },
  {
   "cell_type": "code",
   "execution_count": 46,
   "id": "6cab31c7",
   "metadata": {},
   "outputs": [
    {
     "name": "stdout",
     "output_type": "stream",
     "text": [
      "EPoch 0 | loss : 0.0000 | weight: [0.70109472] | bias : [0.29955249]\n",
      "EPoch 5 | loss : 0.0000 | weight: [0.7010897] | bias : [0.29955454]\n",
      "EPoch 10 | loss : 0.0000 | weight: [0.7010847] | bias : [0.29955658]\n",
      "EPoch 15 | loss : 0.0000 | weight: [0.70107972] | bias : [0.29955862]\n",
      "EPoch 20 | loss : 0.0000 | weight: [0.70107477] | bias : [0.29956064]\n",
      "EPoch 25 | loss : 0.0000 | weight: [0.70106983] | bias : [0.29956266]\n",
      "EPoch 30 | loss : 0.0000 | weight: [0.70106492] | bias : [0.29956467]\n",
      "EPoch 35 | loss : 0.0000 | weight: [0.70106004] | bias : [0.29956666]\n",
      "EPoch 40 | loss : 0.0000 | weight: [0.70105517] | bias : [0.29956865]\n",
      "EPoch 45 | loss : 0.0000 | weight: [0.70105033] | bias : [0.29957063]\n",
      "EPoch 50 | loss : 0.0000 | weight: [0.70104551] | bias : [0.2995726]\n",
      "EPoch 55 | loss : 0.0000 | weight: [0.70104072] | bias : [0.29957456]\n",
      "EPoch 60 | loss : 0.0000 | weight: [0.70103594] | bias : [0.29957652]\n",
      "EPoch 65 | loss : 0.0000 | weight: [0.70103119] | bias : [0.29957846]\n",
      "EPoch 70 | loss : 0.0000 | weight: [0.70102645] | bias : [0.29958039]\n",
      "EPoch 75 | loss : 0.0000 | weight: [0.70102174] | bias : [0.29958232]\n",
      "EPoch 80 | loss : 0.0000 | weight: [0.70101706] | bias : [0.29958424]\n",
      "EPoch 85 | loss : 0.0000 | weight: [0.70101239] | bias : [0.29958614]\n",
      "EPoch 90 | loss : 0.0000 | weight: [0.70100774] | bias : [0.29958804]\n",
      "EPoch 95 | loss : 0.0000 | weight: [0.70100312] | bias : [0.29958993]\n",
      "EPoch 100 | loss : 0.0000 | weight: [0.70099852] | bias : [0.29959181]\n",
      "EPoch 105 | loss : 0.0000 | weight: [0.70099393] | bias : [0.29959369]\n",
      "EPoch 110 | loss : 0.0000 | weight: [0.70098937] | bias : [0.29959555]\n",
      "EPoch 115 | loss : 0.0000 | weight: [0.70098483] | bias : [0.29959741]\n",
      "EPoch 120 | loss : 0.0000 | weight: [0.70098031] | bias : [0.29959925]\n",
      "EPoch 125 | loss : 0.0000 | weight: [0.70097582] | bias : [0.29960109]\n",
      "EPoch 130 | loss : 0.0000 | weight: [0.70097134] | bias : [0.29960292]\n",
      "EPoch 135 | loss : 0.0000 | weight: [0.70096688] | bias : [0.29960475]\n",
      "EPoch 140 | loss : 0.0000 | weight: [0.70096245] | bias : [0.29960656]\n",
      "EPoch 145 | loss : 0.0000 | weight: [0.70095803] | bias : [0.29960836]\n",
      "EPoch 150 | loss : 0.0000 | weight: [0.70095363] | bias : [0.29961016]\n",
      "EPoch 155 | loss : 0.0000 | weight: [0.70094926] | bias : [0.29961195]\n",
      "EPoch 160 | loss : 0.0000 | weight: [0.7009449] | bias : [0.29961373]\n",
      "EPoch 165 | loss : 0.0000 | weight: [0.70094057] | bias : [0.2996155]\n",
      "EPoch 170 | loss : 0.0000 | weight: [0.70093625] | bias : [0.29961727]\n",
      "EPoch 175 | loss : 0.0000 | weight: [0.70093195] | bias : [0.29961902]\n",
      "EPoch 180 | loss : 0.0000 | weight: [0.70092768] | bias : [0.29962077]\n",
      "EPoch 185 | loss : 0.0000 | weight: [0.70092342] | bias : [0.29962251]\n",
      "EPoch 190 | loss : 0.0000 | weight: [0.70091918] | bias : [0.29962424]\n",
      "EPoch 195 | loss : 0.0000 | weight: [0.70091496] | bias : [0.29962597]\n",
      "EPoch 200 | loss : 0.0000 | weight: [0.70091077] | bias : [0.29962769]\n",
      "EPoch 205 | loss : 0.0000 | weight: [0.70090659] | bias : [0.29962939]\n",
      "EPoch 210 | loss : 0.0000 | weight: [0.70090243] | bias : [0.29963109]\n",
      "EPoch 215 | loss : 0.0000 | weight: [0.70089829] | bias : [0.29963279]\n",
      "EPoch 220 | loss : 0.0000 | weight: [0.70089416] | bias : [0.29963447]\n",
      "EPoch 225 | loss : 0.0000 | weight: [0.70089006] | bias : [0.29963615]\n",
      "EPoch 230 | loss : 0.0000 | weight: [0.70088598] | bias : [0.29963782]\n",
      "EPoch 235 | loss : 0.0000 | weight: [0.70088191] | bias : [0.29963948]\n",
      "EPoch 240 | loss : 0.0000 | weight: [0.70087787] | bias : [0.29964114]\n",
      "EPoch 245 | loss : 0.0000 | weight: [0.70087384] | bias : [0.29964278]\n",
      "EPoch 250 | loss : 0.0000 | weight: [0.70086983] | bias : [0.29964442]\n",
      "EPoch 255 | loss : 0.0000 | weight: [0.70086584] | bias : [0.29964605]\n",
      "EPoch 260 | loss : 0.0000 | weight: [0.70086186] | bias : [0.29964768]\n",
      "EPoch 265 | loss : 0.0000 | weight: [0.70085791] | bias : [0.29964929]\n",
      "EPoch 270 | loss : 0.0000 | weight: [0.70085397] | bias : [0.2996509]\n",
      "EPoch 275 | loss : 0.0000 | weight: [0.70085005] | bias : [0.2996525]\n",
      "EPoch 280 | loss : 0.0000 | weight: [0.70084615] | bias : [0.2996541]\n",
      "EPoch 285 | loss : 0.0000 | weight: [0.70084227] | bias : [0.29965569]\n",
      "EPoch 290 | loss : 0.0000 | weight: [0.7008384] | bias : [0.29965727]\n",
      "EPoch 295 | loss : 0.0000 | weight: [0.70083456] | bias : [0.29965884]\n",
      "EPoch 300 | loss : 0.0000 | weight: [0.70083073] | bias : [0.2996604]\n",
      "EPoch 305 | loss : 0.0000 | weight: [0.70082692] | bias : [0.29966196]\n",
      "EPoch 310 | loss : 0.0000 | weight: [0.70082312] | bias : [0.29966351]\n",
      "EPoch 315 | loss : 0.0000 | weight: [0.70081934] | bias : [0.29966506]\n",
      "EPoch 320 | loss : 0.0000 | weight: [0.70081559] | bias : [0.29966659]\n",
      "EPoch 325 | loss : 0.0000 | weight: [0.70081184] | bias : [0.29966812]\n",
      "EPoch 330 | loss : 0.0000 | weight: [0.70080812] | bias : [0.29966965]\n",
      "EPoch 335 | loss : 0.0000 | weight: [0.70080441] | bias : [0.29967116]\n",
      "EPoch 340 | loss : 0.0000 | weight: [0.70080072] | bias : [0.29967267]\n",
      "EPoch 345 | loss : 0.0000 | weight: [0.70079704] | bias : [0.29967417]\n",
      "EPoch 350 | loss : 0.0000 | weight: [0.70079339] | bias : [0.29967567]\n",
      "EPoch 355 | loss : 0.0000 | weight: [0.70078975] | bias : [0.29967716]\n",
      "EPoch 360 | loss : 0.0000 | weight: [0.70078612] | bias : [0.29967864]\n",
      "EPoch 365 | loss : 0.0000 | weight: [0.70078251] | bias : [0.29968011]\n",
      "EPoch 370 | loss : 0.0000 | weight: [0.70077892] | bias : [0.29968158]\n",
      "EPoch 375 | loss : 0.0000 | weight: [0.70077535] | bias : [0.29968304]\n",
      "EPoch 380 | loss : 0.0000 | weight: [0.70077179] | bias : [0.2996845]\n",
      "EPoch 385 | loss : 0.0000 | weight: [0.70076825] | bias : [0.29968594]\n",
      "EPoch 390 | loss : 0.0000 | weight: [0.70076473] | bias : [0.29968739]\n",
      "EPoch 395 | loss : 0.0000 | weight: [0.70076122] | bias : [0.29968882]\n",
      "EPoch 400 | loss : 0.0000 | weight: [0.70075772] | bias : [0.29969025]\n",
      "EPoch 405 | loss : 0.0000 | weight: [0.70075425] | bias : [0.29969167]\n",
      "EPoch 410 | loss : 0.0000 | weight: [0.70075079] | bias : [0.29969308]\n",
      "EPoch 415 | loss : 0.0000 | weight: [0.70074734] | bias : [0.29969449]\n",
      "EPoch 420 | loss : 0.0000 | weight: [0.70074391] | bias : [0.29969589]\n",
      "EPoch 425 | loss : 0.0000 | weight: [0.7007405] | bias : [0.29969729]\n",
      "EPoch 430 | loss : 0.0000 | weight: [0.7007371] | bias : [0.29969868]\n",
      "EPoch 435 | loss : 0.0000 | weight: [0.70073372] | bias : [0.29970006]\n",
      "EPoch 440 | loss : 0.0000 | weight: [0.70073035] | bias : [0.29970144]\n",
      "EPoch 445 | loss : 0.0000 | weight: [0.700727] | bias : [0.29970281]\n",
      "EPoch 450 | loss : 0.0000 | weight: [0.70072366] | bias : [0.29970417]\n",
      "EPoch 455 | loss : 0.0000 | weight: [0.70072034] | bias : [0.29970553]\n",
      "EPoch 460 | loss : 0.0000 | weight: [0.70071704] | bias : [0.29970688]\n",
      "EPoch 465 | loss : 0.0000 | weight: [0.70071375] | bias : [0.29970823]\n",
      "EPoch 470 | loss : 0.0000 | weight: [0.70071047] | bias : [0.29970956]\n",
      "EPoch 475 | loss : 0.0000 | weight: [0.70070721] | bias : [0.2997109]\n",
      "EPoch 480 | loss : 0.0000 | weight: [0.70070397] | bias : [0.29971222]\n",
      "EPoch 485 | loss : 0.0000 | weight: [0.70070074] | bias : [0.29971354]\n",
      "EPoch 490 | loss : 0.0000 | weight: [0.70069752] | bias : [0.29971486]\n",
      "EPoch 495 | loss : 0.0000 | weight: [0.70069432] | bias : [0.29971617]\n",
      "EPoch 500 | loss : 0.0000 | weight: [0.70069113] | bias : [0.29971747]\n",
      "EPoch 505 | loss : 0.0000 | weight: [0.70068796] | bias : [0.29971877]\n",
      "EPoch 510 | loss : 0.0000 | weight: [0.70068481] | bias : [0.29972006]\n",
      "EPoch 515 | loss : 0.0000 | weight: [0.70068166] | bias : [0.29972134]\n",
      "EPoch 520 | loss : 0.0000 | weight: [0.70067854] | bias : [0.29972262]\n",
      "EPoch 525 | loss : 0.0000 | weight: [0.70067542] | bias : [0.29972389]\n",
      "EPoch 530 | loss : 0.0000 | weight: [0.70067232] | bias : [0.29972516]\n",
      "EPoch 535 | loss : 0.0000 | weight: [0.70066924] | bias : [0.29972642]\n",
      "EPoch 540 | loss : 0.0000 | weight: [0.70066617] | bias : [0.29972768]\n",
      "EPoch 545 | loss : 0.0000 | weight: [0.70066311] | bias : [0.29972893]\n",
      "EPoch 550 | loss : 0.0000 | weight: [0.70066007] | bias : [0.29973017]\n",
      "EPoch 555 | loss : 0.0000 | weight: [0.70065704] | bias : [0.29973141]\n",
      "EPoch 560 | loss : 0.0000 | weight: [0.70065402] | bias : [0.29973264]\n",
      "EPoch 565 | loss : 0.0000 | weight: [0.70065102] | bias : [0.29973387]\n",
      "EPoch 570 | loss : 0.0000 | weight: [0.70064804] | bias : [0.29973509]\n",
      "EPoch 575 | loss : 0.0000 | weight: [0.70064506] | bias : [0.2997363]\n",
      "EPoch 580 | loss : 0.0000 | weight: [0.7006421] | bias : [0.29973751]\n",
      "EPoch 585 | loss : 0.0000 | weight: [0.70063916] | bias : [0.29973872]\n",
      "EPoch 590 | loss : 0.0000 | weight: [0.70063622] | bias : [0.29973992]\n",
      "EPoch 595 | loss : 0.0000 | weight: [0.7006333] | bias : [0.29974111]\n",
      "EPoch 600 | loss : 0.0000 | weight: [0.7006304] | bias : [0.2997423]\n",
      "EPoch 605 | loss : 0.0000 | weight: [0.7006275] | bias : [0.29974348]\n",
      "EPoch 610 | loss : 0.0000 | weight: [0.70062463] | bias : [0.29974466]\n",
      "EPoch 615 | loss : 0.0000 | weight: [0.70062176] | bias : [0.29974583]\n",
      "EPoch 620 | loss : 0.0000 | weight: [0.70061891] | bias : [0.299747]\n",
      "EPoch 625 | loss : 0.0000 | weight: [0.70061607] | bias : [0.29974816]\n",
      "EPoch 630 | loss : 0.0000 | weight: [0.70061324] | bias : [0.29974931]\n",
      "EPoch 635 | loss : 0.0000 | weight: [0.70061043] | bias : [0.29975046]\n",
      "EPoch 640 | loss : 0.0000 | weight: [0.70060762] | bias : [0.29975161]\n",
      "EPoch 645 | loss : 0.0000 | weight: [0.70060484] | bias : [0.29975275]\n",
      "EPoch 650 | loss : 0.0000 | weight: [0.70060206] | bias : [0.29975388]\n",
      "EPoch 655 | loss : 0.0000 | weight: [0.7005993] | bias : [0.29975501]\n",
      "EPoch 660 | loss : 0.0000 | weight: [0.70059655] | bias : [0.29975614]\n",
      "EPoch 665 | loss : 0.0000 | weight: [0.70059381] | bias : [0.29975725]\n",
      "EPoch 670 | loss : 0.0000 | weight: [0.70059109] | bias : [0.29975837]\n",
      "EPoch 675 | loss : 0.0000 | weight: [0.70058837] | bias : [0.29975948]\n",
      "EPoch 680 | loss : 0.0000 | weight: [0.70058567] | bias : [0.29976058]\n",
      "EPoch 685 | loss : 0.0000 | weight: [0.70058299] | bias : [0.29976168]\n",
      "EPoch 690 | loss : 0.0000 | weight: [0.70058031] | bias : [0.29976277]\n",
      "EPoch 695 | loss : 0.0000 | weight: [0.70057765] | bias : [0.29976386]\n",
      "EPoch 700 | loss : 0.0000 | weight: [0.700575] | bias : [0.29976495]\n",
      "EPoch 705 | loss : 0.0000 | weight: [0.70057236] | bias : [0.29976602]\n",
      "EPoch 710 | loss : 0.0000 | weight: [0.70056973] | bias : [0.2997671]\n",
      "EPoch 715 | loss : 0.0000 | weight: [0.70056712] | bias : [0.29976817]\n",
      "EPoch 720 | loss : 0.0000 | weight: [0.70056452] | bias : [0.29976923]\n",
      "EPoch 725 | loss : 0.0000 | weight: [0.70056193] | bias : [0.29977029]\n",
      "EPoch 730 | loss : 0.0000 | weight: [0.70055935] | bias : [0.29977134]\n",
      "EPoch 735 | loss : 0.0000 | weight: [0.70055678] | bias : [0.29977239]\n",
      "EPoch 740 | loss : 0.0000 | weight: [0.70055423] | bias : [0.29977344]\n",
      "EPoch 745 | loss : 0.0000 | weight: [0.70055168] | bias : [0.29977448]\n",
      "EPoch 750 | loss : 0.0000 | weight: [0.70054915] | bias : [0.29977551]\n",
      "EPoch 755 | loss : 0.0000 | weight: [0.70054663] | bias : [0.29977654]\n",
      "EPoch 760 | loss : 0.0000 | weight: [0.70054412] | bias : [0.29977757]\n",
      "EPoch 765 | loss : 0.0000 | weight: [0.70054163] | bias : [0.29977859]\n",
      "EPoch 770 | loss : 0.0000 | weight: [0.70053914] | bias : [0.2997796]\n",
      "EPoch 775 | loss : 0.0000 | weight: [0.70053667] | bias : [0.29978061]\n",
      "EPoch 780 | loss : 0.0000 | weight: [0.7005342] | bias : [0.29978162]\n",
      "EPoch 785 | loss : 0.0000 | weight: [0.70053175] | bias : [0.29978262]\n",
      "EPoch 790 | loss : 0.0000 | weight: [0.70052931] | bias : [0.29978362]\n",
      "EPoch 795 | loss : 0.0000 | weight: [0.70052688] | bias : [0.29978461]\n",
      "EPoch 800 | loss : 0.0000 | weight: [0.70052447] | bias : [0.2997856]\n",
      "EPoch 805 | loss : 0.0000 | weight: [0.70052206] | bias : [0.29978659]\n",
      "EPoch 810 | loss : 0.0000 | weight: [0.70051966] | bias : [0.29978756]\n",
      "EPoch 815 | loss : 0.0000 | weight: [0.70051728] | bias : [0.29978854]\n",
      "EPoch 820 | loss : 0.0000 | weight: [0.70051491] | bias : [0.29978951]\n",
      "EPoch 825 | loss : 0.0000 | weight: [0.70051254] | bias : [0.29979048]\n",
      "EPoch 830 | loss : 0.0000 | weight: [0.70051019] | bias : [0.29979144]\n",
      "EPoch 835 | loss : 0.0000 | weight: [0.70050785] | bias : [0.29979239]\n",
      "EPoch 840 | loss : 0.0000 | weight: [0.70050552] | bias : [0.29979335]\n",
      "EPoch 845 | loss : 0.0000 | weight: [0.7005032] | bias : [0.2997943]\n",
      "EPoch 850 | loss : 0.0000 | weight: [0.70050089] | bias : [0.29979524]\n",
      "EPoch 855 | loss : 0.0000 | weight: [0.70049859] | bias : [0.29979618]\n",
      "EPoch 860 | loss : 0.0000 | weight: [0.70049631] | bias : [0.29979711]\n",
      "EPoch 865 | loss : 0.0000 | weight: [0.70049403] | bias : [0.29979804]\n",
      "EPoch 870 | loss : 0.0000 | weight: [0.70049176] | bias : [0.29979897]\n",
      "EPoch 875 | loss : 0.0000 | weight: [0.7004895] | bias : [0.29979989]\n",
      "EPoch 880 | loss : 0.0000 | weight: [0.70048726] | bias : [0.29980081]\n",
      "EPoch 885 | loss : 0.0000 | weight: [0.70048502] | bias : [0.29980173]\n",
      "EPoch 890 | loss : 0.0000 | weight: [0.7004828] | bias : [0.29980264]\n",
      "EPoch 895 | loss : 0.0000 | weight: [0.70048058] | bias : [0.29980354]\n",
      "EPoch 900 | loss : 0.0000 | weight: [0.70047838] | bias : [0.29980444]\n",
      "EPoch 905 | loss : 0.0000 | weight: [0.70047618] | bias : [0.29980534]\n",
      "EPoch 910 | loss : 0.0000 | weight: [0.700474] | bias : [0.29980623]\n",
      "EPoch 915 | loss : 0.0000 | weight: [0.70047182] | bias : [0.29980712]\n",
      "EPoch 920 | loss : 0.0000 | weight: [0.70046966] | bias : [0.29980801]\n",
      "EPoch 925 | loss : 0.0000 | weight: [0.7004675] | bias : [0.29980889]\n",
      "EPoch 930 | loss : 0.0000 | weight: [0.70046536] | bias : [0.29980977]\n",
      "EPoch 935 | loss : 0.0000 | weight: [0.70046322] | bias : [0.29981064]\n",
      "EPoch 940 | loss : 0.0000 | weight: [0.7004611] | bias : [0.29981151]\n",
      "EPoch 945 | loss : 0.0000 | weight: [0.70045898] | bias : [0.29981237]\n",
      "EPoch 950 | loss : 0.0000 | weight: [0.70045687] | bias : [0.29981323]\n",
      "EPoch 955 | loss : 0.0000 | weight: [0.70045478] | bias : [0.29981409]\n",
      "EPoch 960 | loss : 0.0000 | weight: [0.70045269] | bias : [0.29981494]\n",
      "EPoch 965 | loss : 0.0000 | weight: [0.70045061] | bias : [0.29981579]\n",
      "EPoch 970 | loss : 0.0000 | weight: [0.70044855] | bias : [0.29981664]\n",
      "EPoch 975 | loss : 0.0000 | weight: [0.70044649] | bias : [0.29981748]\n",
      "EPoch 980 | loss : 0.0000 | weight: [0.70044444] | bias : [0.29981832]\n",
      "EPoch 985 | loss : 0.0000 | weight: [0.7004424] | bias : [0.29981915]\n",
      "EPoch 990 | loss : 0.0000 | weight: [0.70044037] | bias : [0.29981998]\n",
      "EPoch 995 | loss : 0.0000 | weight: [0.70043835] | bias : [0.29982081]\n"
     ]
    }
   ],
   "source": [
    "epochs  = 1000\n",
    "for epoch in range(epochs):\n",
    "    loss = model_0.step(X_train, y_train, lr = 0.01)\n",
    "\n",
    "    if epoch % 5 == 0:\n",
    "        print(f\"EPoch {epoch} | loss : {loss:.4f} | weight: {model_0.weights} | bias : {model_0.bias}\")"
   ]
  },
  {
   "cell_type": "code",
   "execution_count": 56,
   "id": "16f8b49a",
   "metadata": {},
   "outputs": [],
   "source": [
    "y_preds = model_0(X_test)"
   ]
  },
  {
   "cell_type": "code",
   "execution_count": 57,
   "id": "e5369b23",
   "metadata": {},
   "outputs": [
    {
     "data": {
      "image/png": "[encoded data removed]",
      "text/plain": [
       "<Figure size 1000x700 with 1 Axes>"
      ]
     },
     "metadata": {},
     "output_type": "display_data"
    }
   ],
   "source": [
    "plot_predictions(X_train, y_train, X_test, y_test, predictions=y_preds)\n"
   ]
  }
 ],
 "metadata": {
  "kernelspec": {
   "display_name": "Python 3",
   "language": "python",
   "name": "python3"
  },
  "language_info": {
   "codemirror_mode": {
    "name": "ipython",
    "version": 3
   },
   "file_extension": ".py",
   "mimetype": "text/x-python",
   "name": "python",
   "nbconvert_exporter": "python",
   "pygments_lexer": "ipython3",
   "version": "3.11.1"
  }
 },
 "nbformat": 4,
 "nbformat_minor": 5
}
