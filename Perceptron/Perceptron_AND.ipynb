{
 "cells": [
  {
   "cell_type": "code",
   "execution_count": 1,
   "id": "7b0dee40",
   "metadata": {},
   "outputs": [],
   "source": [
    "import numpy as np\n",
    "import matplotlib.pyplot as plt"
   ]
  },
  {
   "cell_type": "markdown",
   "id": "e1329697",
   "metadata": {},
   "source": [
    "### Perceptron model"
   ]
  },
  {
   "cell_type": "code",
   "execution_count": 4,
   "id": "4a117dc1",
   "metadata": {},
   "outputs": [],
   "source": [
    "import numpy as np\n",
    "\n",
    "class Perceptron:\n",
    "    \"\"\"A simple Perceptron model for binary classification.\"\"\"\n",
    "\n",
    "    def __init__(self, learning_rate=0.01, n_iterations=1000):\n",
    "        \"\"\"\n",
    "        Initializes the Perceptron with a learning rate and number of iterations.\n",
    "        \n",
    "        Parameters:\n",
    "        learning_rate (float): How much to adjust the weights on each update.\n",
    "        n_iterations (int): The number of times to loop through the training data.\n",
    "        \"\"\"\n",
    "        self.learning_rate = learning_rate\n",
    "        self.n_iterations = n_iterations\n",
    "        self.activation_function = self._step_function\n",
    "        self.weights = None\n",
    "        self.bias = None\n",
    "\n",
    "    def fit(self, X, y):\n",
    "        \"\"\"\n",
    "        Fits the Perceptron model to the training data.\n",
    "        \n",
    "        Parameters:\n",
    "        X (np.ndarray): The training input data.\n",
    "        y (np.ndarray): The target labels.\n",
    "        \"\"\"\n",
    "        n_samples, n_features = X.shape\n",
    "\n",
    "        # Initialize weights to zeros and bias to zero\n",
    "        self.weights = np.zeros(n_features)\n",
    "        self.bias = 0\n",
    "\n",
    "        # Convert labels to {-1, 1} for consistency with the step function\n",
    "        y_ = np.where(y > 0, 1, -1)\n",
    "\n",
    "        for _ in range(self.n_iterations):\n",
    "            for idx, x_i in enumerate(X):\n",
    "                # Calculate the weighted sum of inputs\n",
    "                linear_output = np.dot(x_i, self.weights) + self.bias\n",
    "                \n",
    "                # Apply the activation function to get the prediction\n",
    "                y_predicted = self.activation_function(linear_output)\n",
    "                \n",
    "                # Calculate the error\n",
    "                error = y_[idx] - y_predicted\n",
    "                \n",
    "                # Update weights and bias based on the error\n",
    "                if error != 0:\n",
    "                    self.weights += self.learning_rate * error * x_i\n",
    "                    self.bias += self.learning_rate * error\n",
    "\n",
    "    def predict(self, X):\n",
    "        \"\"\"\n",
    "        Predicts the class labels for a given input.\n",
    "        \n",
    "        Parameters:\n",
    "        X (np.ndarray): The input data.\n",
    "        \n",
    "        Returns:\n",
    "        np.ndarray: The predicted labels.\n",
    "        \"\"\"\n",
    "        linear_output = np.dot(X, self.weights) + self.bias\n",
    "        y_predicted = self.activation_function(linear_output)\n",
    "        return y_predicted\n",
    "\n",
    "    def _step_function(self, x):\n",
    "        \"\"\"\n",
    "        The Perceptron's activation function. Returns 1 for non-negative inputs,\n",
    "        -1 otherwise.\n",
    "        \"\"\"\n",
    "        return np.where(x >= 0, 1, -1)"
   ]
  },
  {
   "cell_type": "code",
   "execution_count": 5,
   "id": "03f4fba6",
   "metadata": {},
   "outputs": [
    {
     "name": "stdout",
     "output_type": "stream",
     "text": [
      "AND Gate Predictions:\n",
      "[-1 -1 -1  1]\n"
     ]
    }
   ],
   "source": [
    "# 1. Define the data for the AND gate\n",
    "X_and = np.array([[0, 0], [0, 1], [1, 0], [1, 1]])\n",
    "y_and = np.array([0, 0, 0, 1])\n",
    "\n",
    "# 2. Create and train the Perceptron model\n",
    "perceptron = Perceptron(learning_rate=0.1, n_iterations=10)\n",
    "perceptron.fit(X_and, y_and)\n",
    "\n",
    "# 3. Test the model\n",
    "predictions = perceptron.predict(X_and)\n",
    "print(\"AND Gate Predictions:\")\n",
    "print(predictions)\n",
    "\n",
    "# The model should output [-1, -1, -1, 1] for the inputs, which corresponds to our y_and"
   ]
  }
 ],
 "metadata": {
  "kernelspec": {
   "display_name": "Python 3",
   "language": "python",
   "name": "python3"
  },
  "language_info": {
   "codemirror_mode": {
    "name": "ipython",
    "version": 3
   },
   "file_extension": ".py",
   "mimetype": "text/x-python",
   "name": "python",
   "nbconvert_exporter": "python",
   "pygments_lexer": "ipython3",
   "version": "3.11.1"
  }
 },
 "nbformat": 4,
 "nbformat_minor": 5
}
