{
 "cells": [
  {
   "cell_type": "markdown",
   "id": "1a43abdf",
   "metadata": {},
   "source": [
    "**The LeNet-5 paper by LeCun et al. (1998) introduced a groundbreaking convolutional neural network (CNN) architecture designed for recognizing handwritten characters, particularly for postal code recognition. Its key innovation was proving that a multi-layered network could be trained end-to-end to learn its own features directly from raw image pixels, which was a huge improvement over traditional methods that relied on hand-crafted features. The paper showcased the power of convolutional layers for feature extraction and pooling layers for downsampling, making the model robust and efficient.**"
   ]
  },
  {
   "cell_type": "markdown",
   "id": "b7cf1eb6",
   "metadata": {},
   "source": [
    "**While LeNet-5 was originally designed for the simpler MNIST digits, the Fashion-MNIST dataset presents a more complex classification task. The images are visually more ambiguous, with different types of clothing (e.g., shirts, t-shirts, coats) having similar features.**"
   ]
  },
  {
   "cell_type": "markdown",
   "id": "1c1c3b24",
   "metadata": {},
   "source": [
    "### Data prep"
   ]
  },
  {
   "cell_type": "code",
   "execution_count": 37,
   "id": "d6c93fa0",
   "metadata": {},
   "outputs": [],
   "source": [
    "import torch\n",
    "from torch import nn\n",
    "import torchvision\n",
    "from torchvision import datasets\n",
    "from torchvision import transforms\n",
    "from torchvision.transforms import ToTensor\n",
    "import numpy as np\n",
    "import matplotlib.pyplot as plt"
   ]
  },
  {
   "cell_type": "code",
   "execution_count": 38,
   "id": "487f6df4",
   "metadata": {},
   "outputs": [
    {
     "data": {
      "text/plain": [
       "'cuda'"
      ]
     },
     "execution_count": 38,
     "metadata": {},
     "output_type": "execute_result"
    }
   ],
   "source": [
    "device = 'cuda' if torch.cuda.is_available() else 'cpu'\n",
    "device"
   ]
  },
  {
   "cell_type": "code",
   "execution_count": 39,
   "id": "5ad123fb",
   "metadata": {},
   "outputs": [],
   "source": [
    "train_data = datasets.FashionMNIST(\n",
    "    root = \"data\",\n",
    "    train=True,\n",
    "    download=True,\n",
    "    transform=ToTensor(),\n",
    "    target_transform=None\n",
    ")\n",
    "test_data = datasets.FashionMNIST(\n",
    "    root = \"data\",\n",
    "    train=False,\n",
    "    download=True,\n",
    "    transform=ToTensor(),\n",
    "    target_transform=None\n",
    ")"
   ]
  },
  {
   "cell_type": "code",
   "execution_count": 40,
   "id": "a7c0bb17",
   "metadata": {},
   "outputs": [
    {
     "data": {
      "text/plain": [
       "(60000, 10000)"
      ]
     },
     "execution_count": 40,
     "metadata": {},
     "output_type": "execute_result"
    }
   ],
   "source": [
    "len(train_data),len(test_data)"
   ]
  },
  {
   "cell_type": "code",
   "execution_count": 41,
   "id": "e90bd44b",
   "metadata": {},
   "outputs": [
    {
     "data": {
      "text/plain": [
       "(['T-shirt/top',\n",
       "  'Trouser',\n",
       "  'Pullover',\n",
       "  'Dress',\n",
       "  'Coat',\n",
       "  'Sandal',\n",
       "  'Shirt',\n",
       "  'Sneaker',\n",
       "  'Bag',\n",
       "  'Ankle boot'],\n",
       " 10)"
      ]
     },
     "execution_count": 41,
     "metadata": {},
     "output_type": "execute_result"
    }
   ],
   "source": [
    "class_names = train_data.classes\n",
    "class_names, len(class_names)"
   ]
  },
  {
   "cell_type": "code",
   "execution_count": 42,
   "id": "dd635e71",
   "metadata": {},
   "outputs": [
    {
     "data": {
      "text/plain": [
       "{'T-shirt/top': 0,\n",
       " 'Trouser': 1,\n",
       " 'Pullover': 2,\n",
       " 'Dress': 3,\n",
       " 'Coat': 4,\n",
       " 'Sandal': 5,\n",
       " 'Shirt': 6,\n",
       " 'Sneaker': 7,\n",
       " 'Bag': 8,\n",
       " 'Ankle boot': 9}"
      ]
     },
     "execution_count": 42,
     "metadata": {},
     "output_type": "execute_result"
    }
   ],
   "source": [
    "h = {}\n",
    "for i in range(len(class_names)):\n",
    "    h[class_names[i]] = i\n",
    "h"
   ]
  },
  {
   "cell_type": "code",
   "execution_count": 43,
   "id": "b343af2b",
   "metadata": {},
   "outputs": [
    {
     "data": {
      "text/plain": [
       "{'T-shirt/top': 0,\n",
       " 'Trouser': 1,\n",
       " 'Pullover': 2,\n",
       " 'Dress': 3,\n",
       " 'Coat': 4,\n",
       " 'Sandal': 5,\n",
       " 'Shirt': 6,\n",
       " 'Sneaker': 7,\n",
       " 'Bag': 8,\n",
       " 'Ankle boot': 9}"
      ]
     },
     "execution_count": 43,
     "metadata": {},
     "output_type": "execute_result"
    }
   ],
   "source": [
    "### both method works\n",
    "#  encode the labels by using a dictionary : we can use this class_to_idx method\n",
    "class_to_idx = train_data.class_to_idx\n",
    "class_to_idx"
   ]
  },
  {
   "cell_type": "code",
   "execution_count": 44,
   "id": "9a0127ce",
   "metadata": {},
   "outputs": [],
   "source": [
    "image, label = train_data[0]"
   ]
  },
  {
   "cell_type": "markdown",
   "id": "7cdb68a2",
   "metadata": {},
   "source": [
    "### visualizing  image"
   ]
  },
  {
   "cell_type": "code",
   "execution_count": 45,
   "id": "8701a746",
   "metadata": {},
   "outputs": [
    {
     "name": "stdout",
     "output_type": "stream",
     "text": [
      "Image shape: torch.Size([1, 28, 28]) -> [color channels, height, width]\n",
      "Image label : Ankle boot\n"
     ]
    },
    {
     "data": {
      "text/plain": [
       "Text(0.5, 1.0, 'Ankle boot')"
      ]
     },
     "execution_count": 45,
     "metadata": {},
     "output_type": "execute_result"
    },
    {
     "data": {
      "image/png": "[encoded data removed]",
      "text/plain": [
       "<Figure size 640x480 with 1 Axes>"
      ]
     },
     "metadata": {},
     "output_type": "display_data"
    }
   ],
   "source": [
    "print(f\"Image shape: {image.shape} -> [color channels, height, width]\")\n",
    "print(f\"Image label : {class_names[label]}\")\n",
    "plt.imshow(image.squeeze(),cmap=\"gray\") #squeeze because img should be (H,W)\n",
    "plt.title(class_names[label])"
   ]
  },
  {
   "cell_type": "code",
   "execution_count": 46,
   "id": "5c04389a",
   "metadata": {},
   "outputs": [
    {
     "data": {
      "text/plain": [
       "(Dataset FashionMNIST\n",
       "     Number of datapoints: 60000\n",
       "     Root location: data\n",
       "     Split: Train\n",
       "     StandardTransform\n",
       " Transform: ToTensor(),\n",
       " Dataset FashionMNIST\n",
       "     Number of datapoints: 10000\n",
       "     Root location: data\n",
       "     Split: Test\n",
       "     StandardTransform\n",
       " Transform: ToTensor())"
      ]
     },
     "execution_count": 46,
     "metadata": {},
     "output_type": "execute_result"
    }
   ],
   "source": [
    "train_data, test_data"
   ]
  },
  {
   "cell_type": "markdown",
   "id": "a5e78bd7",
   "metadata": {},
   "source": [
    "### DataLoader\n",
    "it turns out dataset into python iterabel with batches"
   ]
  },
  {
   "cell_type": "code",
   "execution_count": 47,
   "id": "02568080",
   "metadata": {},
   "outputs": [],
   "source": [
    "from torch.utils.data import DataLoader\n",
    "BATCH_SIZE = 32 ### a hyperparam we can  tune\n",
    "train_dataloader = DataLoader(dataset=train_data,\n",
    "                              batch_size=BATCH_SIZE,\n",
    "                              shuffle=True)\n",
    "test_dataloader = DataLoader(dataset=test_data,\n",
    "                             batch_size=BATCH_SIZE,\n",
    "                             shuffle=False)"
   ]
  },
  {
   "cell_type": "code",
   "execution_count": 48,
   "id": "e7731f96",
   "metadata": {},
   "outputs": [
    {
     "data": {
      "text/plain": [
       "(<torch.utils.data.dataloader.DataLoader at 0x1c9f6ca66d0>,\n",
       " <torch.utils.data.dataloader.DataLoader at 0x1c9f6a80d90>)"
      ]
     },
     "execution_count": 48,
     "metadata": {},
     "output_type": "execute_result"
    }
   ],
   "source": [
    "train_dataloader,test_dataloader"
   ]
  },
  {
   "cell_type": "code",
   "execution_count": 49,
   "id": "df36f973",
   "metadata": {},
   "outputs": [
    {
     "data": {
      "text/plain": [
       "(torch.Size([32, 1, 28, 28]), torch.Size([32]))"
      ]
     },
     "execution_count": 49,
     "metadata": {},
     "output_type": "execute_result"
    }
   ],
   "source": [
    "train_features_batch, train_labels_batch = next(iter(train_dataloader)) ### get one sample of image and lable\n",
    "train_features_batch.shape, train_labels_batch.shape # batch size, color channel, H, W"
   ]
  },
  {
   "cell_type": "markdown",
   "id": "e83093b1",
   "metadata": {},
   "source": [
    "### **CNN Model (Convolution Neural Network)**"
   ]
  },
  {
   "cell_type": "code",
   "execution_count": 50,
   "id": "7962f61e",
   "metadata": {},
   "outputs": [],
   "source": [
    "class CNN(nn.Module):\n",
    "    def __init__(self,input_shape:int,hidden_units:int,output_shape:int):\n",
    "        super().__init__()\n",
    "        self.conv_block1 = nn.Sequential(\n",
    "            nn.Conv2d(in_channels=input_shape,\n",
    "                      out_channels=hidden_units,\n",
    "                      kernel_size=3,\n",
    "                      stride=1,\n",
    "                      padding=1),\n",
    "            nn.ReLU(),\n",
    "            nn.Conv2d(in_channels=hidden_units,\n",
    "                      out_channels=hidden_units,\n",
    "                      kernel_size=3,\n",
    "                      stride=1,\n",
    "                      padding=1),\n",
    "            nn.ReLU(),\n",
    "            nn.MaxPool2d(kernel_size=2)\n",
    "        )\n",
    "\n",
    "        self.conv_block2 = nn.Sequential(\n",
    "            nn.Conv2d(in_channels= hidden_units,\n",
    "                      out_channels=hidden_units,\n",
    "                      kernel_size=3,\n",
    "                      stride=1,\n",
    "                      padding=1\n",
    "                      ),\n",
    "            nn.ReLU(),\n",
    "            nn.Conv2d(in_channels=hidden_units,\n",
    "                      out_channels=hidden_units,\n",
    "                      kernel_size=3,\n",
    "                      stride=1,\n",
    "                      padding=1),\n",
    "            nn.ReLU(),\n",
    "            nn.MaxPool2d(kernel_size=2)      \n",
    "        )\n",
    "        # now a liner layer to classify \n",
    "        self.classifier = nn.Sequential(\n",
    "            nn.Flatten(),#  to reduce dim 1\n",
    "            nn.Linear(in_features=hidden_units * 7 *7, ### this can be determined by the first shape mistmatch error it throws\n",
    "                      out_features=output_shape)\n",
    "        )\n",
    "    \n",
    "    def forward(self, x):\n",
    "        x = self.conv_block1(x)\n",
    "        # print(f\"output shape of conv block 1: {x.shape}\")\n",
    "        x = self.conv_block2(x)\n",
    "        # print(f\"output shape of conv block 2: {x.shape}\")\n",
    "        x = self.classifier(x)\n",
    "        # print(f\"output shape of classifier: {x.shape}\")\n",
    "\n",
    "        return x"
   ]
  },
  {
   "cell_type": "code",
   "execution_count": 51,
   "id": "88386312",
   "metadata": {},
   "outputs": [],
   "source": [
    "cnn_model = CNN(input_shape=1,\n",
    "                hidden_units=10,\n",
    "                output_shape=len(class_names)).to(device)"
   ]
  },
  {
   "cell_type": "code",
   "execution_count": 52,
   "id": "ef28a29c",
   "metadata": {},
   "outputs": [
    {
     "data": {
      "text/plain": [
       "CNN(\n",
       "  (conv_block1): Sequential(\n",
       "    (0): Conv2d(1, 10, kernel_size=(3, 3), stride=(1, 1), padding=(1, 1))\n",
       "    (1): ReLU()\n",
       "    (2): Conv2d(10, 10, kernel_size=(3, 3), stride=(1, 1), padding=(1, 1))\n",
       "    (3): ReLU()\n",
       "    (4): MaxPool2d(kernel_size=2, stride=2, padding=0, dilation=1, ceil_mode=False)\n",
       "  )\n",
       "  (conv_block2): Sequential(\n",
       "    (0): Conv2d(10, 10, kernel_size=(3, 3), stride=(1, 1), padding=(1, 1))\n",
       "    (1): ReLU()\n",
       "    (2): Conv2d(10, 10, kernel_size=(3, 3), stride=(1, 1), padding=(1, 1))\n",
       "    (3): ReLU()\n",
       "    (4): MaxPool2d(kernel_size=2, stride=2, padding=0, dilation=1, ceil_mode=False)\n",
       "  )\n",
       "  (classifier): Sequential(\n",
       "    (0): Flatten(start_dim=1, end_dim=-1)\n",
       "    (1): Linear(in_features=490, out_features=10, bias=True)\n",
       "  )\n",
       ")"
      ]
     },
     "execution_count": 52,
     "metadata": {},
     "output_type": "execute_result"
    }
   ],
   "source": [
    "cnn_model"
   ]
  },
  {
   "cell_type": "markdown",
   "id": "1c60e6fb",
   "metadata": {},
   "source": [
    "### loss fn and optimizer"
   ]
  },
  {
   "cell_type": "code",
   "execution_count": 53,
   "id": "2f34eba0",
   "metadata": {},
   "outputs": [],
   "source": [
    "loss_fn = nn.CrossEntropyLoss()\n",
    "\n",
    "optimizer = torch.optim.SGD(params = cnn_model.parameters(),\n",
    "                            lr = 0.1)"
   ]
  },
  {
   "cell_type": "markdown",
   "id": "3b2cd63c",
   "metadata": {},
   "source": [
    "### TRAIN and TEST Functions"
   ]
  },
  {
   "cell_type": "code",
   "execution_count": 59,
   "id": "c8b6755e",
   "metadata": {},
   "outputs": [],
   "source": [
    "def train_step(model:torch.nn.Module,\n",
    "               data_loader:torch.utils.data.DataLoader,\n",
    "               loss_fn:torch.nn.Module,\n",
    "               optimizer:torch.optim.Optimizer,\n",
    "               device):\n",
    "    model.train()\n",
    "    train_loss = 0\n",
    "    train_acc = 0\n",
    "\n",
    "    for batch, (X,y) in enumerate(data_loader):\n",
    "        X,y = X.to(device), y.to(device)\n",
    "\n",
    "        #1. forward pass\n",
    "        y_pred =  model(X)\n",
    "\n",
    "        #2. Calculate loss\n",
    "        loss = loss_fn(y_pred,y)\n",
    "        train_loss += loss.item()\n",
    "\n",
    "        #3.\n",
    "        optimizer.zero_grad()\n",
    "\n",
    "        #4 backprop\n",
    "        loss.backward()\n",
    "\n",
    "        #5\n",
    "        optimizer.step()\n",
    "\n",
    "        y_pred_class = torch.argmax(torch.softmax(y_pred, dim= 1),dim=1)\n",
    "        train_acc += (y_pred_class == y).sum().item() / len(y_pred)\n",
    "\n",
    "    train_loss = train_loss / len(data_loader)\n",
    "    train_acc  = train_acc / len(data_loader)\n",
    "\n",
    "    return train_loss, train_acc\n",
    "\n",
    "\n",
    "def test_step(model: torch.nn.Module,\n",
    "              data_loader: torch.utils.data.DataLoader,\n",
    "              loss_fn: torch.nn.Module,\n",
    "              device):\n",
    "    model.eval() # Set the model to evaluation mode\n",
    "    test_loss, test_acc = 0, 0\n",
    "\n",
    "    with torch.inference_mode():\n",
    "        for X, y in data_loader:\n",
    "            # Send data to the target device\n",
    "            X, y = X.to(device), y.to(device)\n",
    "\n",
    "            # 1. Forward pass\n",
    "            test_pred = model(X)\n",
    "\n",
    "            # 2. Calculate the loss\n",
    "            test_loss += loss_fn(test_pred, y).item()\n",
    "\n",
    "            # Calculate accuracy for this batch\n",
    "            test_pred_labels = test_pred.argmax(dim=1)\n",
    "            test_acc += ((test_pred_labels == y).sum().item() / len(test_pred_labels))\n",
    "\n",
    "    # Adjust metrics to get the average loss and accuracy per batch\n",
    "    test_loss /= len(data_loader)\n",
    "    test_acc /= len(data_loader)\n",
    "    return test_loss, test_acc"
   ]
  },
  {
   "cell_type": "code",
   "execution_count": 61,
   "id": "e52b3978",
   "metadata": {},
   "outputs": [
    {
     "data": {
      "application/vnd.jupyter.widget-view+json": {
       "model_id": "e6c63e1e49fe462fbe94b64fc0af5664",
       "version_major": 2,
       "version_minor": 0
      },
      "text/plain": [
       "  0%|          | 0/10 [00:00<?, ?it/s]"
      ]
     },
     "metadata": {},
     "output_type": "display_data"
    },
    {
     "name": "stdout",
     "output_type": "stream",
     "text": [
      "Epoch: 1 | Train Loss: 0.2434 | Train Acc: 0.9096 | Test Loss: 0.2948 | Test Acc: 0.8943\n",
      "Epoch: 2 | Train Loss: 0.2412 | Train Acc: 0.9124 | Test Loss: 0.3108 | Test Acc: 0.8858\n",
      "Epoch: 3 | Train Loss: 0.2391 | Train Acc: 0.9118 | Test Loss: 0.2857 | Test Acc: 0.8952\n",
      "Epoch: 4 | Train Loss: 0.2330 | Train Acc: 0.9155 | Test Loss: 0.2792 | Test Acc: 0.9003\n",
      "Epoch: 5 | Train Loss: 0.2321 | Train Acc: 0.9153 | Test Loss: 0.2886 | Test Acc: 0.8983\n",
      "Epoch: 6 | Train Loss: 0.2301 | Train Acc: 0.9159 | Test Loss: 0.2850 | Test Acc: 0.8949\n",
      "Epoch: 7 | Train Loss: 0.2279 | Train Acc: 0.9168 | Test Loss: 0.2854 | Test Acc: 0.8944\n",
      "Epoch: 8 | Train Loss: 0.2254 | Train Acc: 0.9172 | Test Loss: 0.2814 | Test Acc: 0.8999\n",
      "Epoch: 9 | Train Loss: 0.2240 | Train Acc: 0.9183 | Test Loss: 0.2762 | Test Acc: 0.8980\n",
      "Epoch: 10 | Train Loss: 0.2217 | Train Acc: 0.9189 | Test Loss: 0.2889 | Test Acc: 0.8971\n"
     ]
    }
   ],
   "source": [
    "from tqdm.auto import tqdm \n",
    "\n",
    "\n",
    "epochs = 10\n",
    "\n",
    "results = {\"train_loss\": [],\n",
    "           \"train_acc\": [],\n",
    "           \"test_loss\": [],\n",
    "           \"test_acc\": []}\n",
    "\n",
    "# Loop through each epoch\n",
    "for epoch in tqdm(range(epochs)):\n",
    "    # Perform training step\n",
    "    train_loss, train_acc = train_step(model=cnn_model,\n",
    "                                       data_loader=train_dataloader,\n",
    "                                       loss_fn=loss_fn,\n",
    "                                       optimizer=optimizer,\n",
    "                                       device=device)\n",
    "\n",
    "    # Perform testing step\n",
    "    test_loss, test_acc = test_step(model=cnn_model,\n",
    "                                    data_loader=test_dataloader,\n",
    "                                    loss_fn=loss_fn,\n",
    "                                    device=device)\n",
    "\n",
    "    print(f\"Epoch: {epoch+1} | \"\n",
    "          f\"Train Loss: {train_loss:.4f} | \"\n",
    "          f\"Train Acc: {train_acc:.4f} | \"\n",
    "          f\"Test Loss: {test_loss:.4f} | \"\n",
    "          f\"Test Acc: {test_acc:.4f}\")\n",
    "\n",
    "    # Update results dictionary\n",
    "    results[\"train_loss\"].append(train_loss)\n",
    "    results[\"train_acc\"].append(train_acc)\n",
    "    results[\"test_loss\"].append(test_loss)\n",
    "    results[\"test_acc\"].append(test_acc)"
   ]
  },
  {
   "cell_type": "code",
   "execution_count": 68,
   "id": "6821ee32",
   "metadata": {},
   "outputs": [
    {
     "name": "stdout",
     "output_type": "stream",
     "text": [
      "Original image shape: torch.Size([1, 28, 28])\n",
      "New image shape with batch dimension: torch.Size([1, 1, 28, 28])\n"
     ]
    },
    {
     "data": {
      "image/png": "[encoded data removed]",
      "text/plain": [
       "<Figure size 640x480 with 1 Axes>"
      ]
     },
     "metadata": {},
     "output_type": "display_data"
    },
    {
     "name": "stdout",
     "output_type": "stream",
     "text": [
      "Prediction probability: 0.9877\n",
      "Prediction label index: 1\n",
      "Actual label index: 1\n"
     ]
    }
   ],
   "source": [
    "import random\n",
    "from PIL import Image\n",
    "import matplotlib.pyplot as plt\n",
    "\n",
    "# Set the model to evaluation mode\n",
    "cnn_model.eval()\n",
    "\n",
    "# Grab a single image from the test_data\n",
    "img, label = test_data[random.randint(0, len(test_data)-1)]\n",
    "print(f\"Original image shape: {img.shape}\")\n",
    "\n",
    "# Add a batch dimension to the image\n",
    "img_unsqueeze = img.unsqueeze(dim=0).to(device)\n",
    "print(f\"New image shape with batch dimension: {img_unsqueeze.shape}\")\n",
    "\n",
    "# Make a prediction\n",
    "with torch.inference_mode():\n",
    "    pred_logits = cnn_model(img_unsqueeze)\n",
    "\n",
    "# Convert logits to prediction probabilities\n",
    "pred_probs = torch.softmax(pred_logits, dim=1)\n",
    "\n",
    "# Convert prediction probabilities to prediction labels\n",
    "pred_label = torch.argmax(pred_probs, dim=1)\n",
    "\n",
    "# Plot the image and print the prediction\n",
    "plt.imshow(img.squeeze().cpu(), cmap=\"gray\")\n",
    "plt.title(f\"Prediction: {class_names[pred_label.item()]} | Actual: {class_names[label]}\")\n",
    "plt.show()\n",
    "\n",
    "print(f\"Prediction probability: {pred_probs.max().item():.4f}\")\n",
    "print(f\"Prediction label index: {pred_label.item()}\")\n",
    "print(f\"Actual label index: {label}\")"
   ]
  }
 ],
 "metadata": {
  "kernelspec": {
   "display_name": "Python 3",
   "language": "python",
   "name": "python3"
  },
  "language_info": {
   "codemirror_mode": {
    "name": "ipython",
    "version": 3
   },
   "file_extension": ".py",
   "mimetype": "text/x-python",
   "name": "python",
   "nbconvert_exporter": "python",
   "pygments_lexer": "ipython3",
   "version": "3.11.1"
  }
 },
 "nbformat": 4,
 "nbformat_minor": 5
}
