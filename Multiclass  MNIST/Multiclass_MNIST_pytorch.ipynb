{
 "cells": [
  {
   "cell_type": "code",
   "execution_count": 29,
   "id": "5834a769",
   "metadata": {},
   "outputs": [],
   "source": [
    "import torch\n",
    "import torch.nn as nn\n",
    "import torch.optim as optim\n",
    "from torchvision import datasets, transforms\n",
    "from torch.utils.data import DataLoader\n",
    "from tqdm import tqdm\n",
    "import matplotlib.pyplot as plt\n",
    "import numpy as np"
   ]
  },
  {
   "cell_type": "markdown",
   "id": "3d303ed7",
   "metadata": {},
   "source": [
    "### **Device agnostic to use gpu**"
   ]
  },
  {
   "cell_type": "code",
   "execution_count": 30,
   "id": "3ffca375",
   "metadata": {},
   "outputs": [
    {
     "data": {
      "text/plain": [
       "'cuda'"
      ]
     },
     "execution_count": 30,
     "metadata": {},
     "output_type": "execute_result"
    }
   ],
   "source": [
    "device = 'cuda' if torch.cuda.is_available() else 'cpu'\n",
    "device"
   ]
  },
  {
   "cell_type": "markdown",
   "id": "21103c09",
   "metadata": {},
   "source": [
    "### **Data**\n",
    "* defining transforms\n",
    "* loading dataset into dataloaders\n",
    "* inspecting the data"
   ]
  },
  {
   "cell_type": "markdown",
   "id": "3e15aa45",
   "metadata": {},
   "source": [
    "**The transforms.Normalize((0.5,), (0.5,)) operation does two things:**\n",
    "\n",
    "* It subtracts the mean of 0.5 from each pixel value.\n",
    "\n",
    "* It divides the result by the standard deviation of 0.5.\n",
    "\n",
    "* This transforms the pixel values from the range of [0, 1] to [-1, 1]."
   ]
  },
  {
   "cell_type": "markdown",
   "id": "b88813af",
   "metadata": {},
   "source": [
    "**Why 0.5?**\n",
    "* The transforms.ToTensor() step scales the original pixel values (0-255) to the [0.0, 1.0] range. \n",
    "* By choosing a mean of 0.5, we center the data around zero (0.5 - 0.5 = 0). \n",
    "* By choosing a standard deviation of 0.5, we squash the [0, 1] range into a [-1, 1] range ((1 - 0.5) / 0.5 = 1 and (0 - 0.5) / 0.5 = -1). \n",
    "* These values aren't universally required, but they are a very common choice for simple image normalization and work well for MNIST."
   ]
  },
  {
   "cell_type": "code",
   "execution_count": null,
   "id": "8fd0d654",
   "metadata": {},
   "outputs": [],
   "source": [
    "#define transforms\n",
    "transform = transforms.Compose([\n",
    "    transforms.ToTensor(),\n",
    "    transforms.Normalize((0.5,),(0.5,))\n",
    "])"
   ]
  },
  {
   "cell_type": "code",
   "execution_count": 32,
   "id": "48ca6e89",
   "metadata": {},
   "outputs": [],
   "source": [
    "batch_size = 64\n",
    "train_dataset = datasets.MNIST(root='./data', train=True, download=True, transform=transform)\n",
    "test_dataset = datasets.MNIST(root='./data', train=False, download=True, transform=transform)"
   ]
  },
  {
   "cell_type": "code",
   "execution_count": 33,
   "id": "bd133ff0",
   "metadata": {},
   "outputs": [],
   "source": [
    "train_loader = DataLoader(train_dataset,batch_size=batch_size,shuffle=True)\n",
    "test_loader = DataLoader(test_dataset,batch_size=batch_size,shuffle=False)"
   ]
  },
  {
   "cell_type": "markdown",
   "id": "8d357aba",
   "metadata": {},
   "source": [
    "### Inspecting shapes:\n"
   ]
  },
  {
   "cell_type": "code",
   "execution_count": 38,
   "id": "bda4443d",
   "metadata": {},
   "outputs": [
    {
     "name": "stdout",
     "output_type": "stream",
     "text": [
      "Shape of one batch of images: torch.Size([64, 1, 28, 28])\n",
      "Shape of one batch of labels: torch.Size([64])\n",
      "Shape of a single image: torch.Size([1, 28, 28])\n"
     ]
    }
   ],
   "source": [
    "images, labels = next(iter(train_loader)) ### grab the first batch from dataloader and so osn...\n",
    "\n",
    "print(f\"Shape of one batch of images: {images.shape}\")\n",
    "print(f\"Shape of one batch of labels: {labels.shape}\")\n",
    "\n",
    "# Now let's look at the shape of a single image\n",
    "print(f\"Shape of a single image: {images[0].shape}\")"
   ]
  },
  {
   "cell_type": "markdown",
   "id": "32df2378",
   "metadata": {},
   "source": [
    "### Visualization"
   ]
  },
  {
   "cell_type": "code",
   "execution_count": 42,
   "id": "1b925b5c",
   "metadata": {},
   "outputs": [
    {
     "data": {
      "image/png": "[encoded data removed]",
      "text/plain": [
       "<Figure size 1000x400 with 10 Axes>"
      ]
     },
     "metadata": {},
     "output_type": "display_data"
    }
   ],
   "source": [
    "import matplotlib.pyplot as plt\n",
    "\n",
    "# Get one batch\n",
    "images, labels = next(iter(train_loader))\n",
    "\n",
    "# Unnormalize: [0,1] from [-1,1]\n",
    "images = images * 0.5 + 0.5  \n",
    "\n",
    "# Create subplots\n",
    "fig, axes = plt.subplots(1, 10, figsize=(10, 4))\n",
    "\n",
    "for i in range(10):\n",
    "    img = images[i].squeeze().numpy()   # [1,28,28] -> [28,28]\n",
    "    axes[i].imshow(img, cmap=\"gray\")\n",
    "    axes[i].set_title(labels[i].item())\n",
    "    axes[i].axis(\"off\")\n",
    "\n",
    "plt.show()\n"
   ]
  },
  {
   "cell_type": "code",
   "execution_count": 44,
   "id": "ee678ebc",
   "metadata": {},
   "outputs": [],
   "source": [
    "class MNISTCLASSIFICATION(nn.Module):\n",
    "    def __init__(self, input_size, hidden_size, output_size):\n",
    "        super().__init__()\n",
    "        # PyTorch's nn.Linear handles weight and bias initialization for us.\n",
    "        self.fc1 = nn.Linear(input_size, hidden_size)   # first layer\n",
    "        self.relu = nn.ReLU() # activation fn to introduce non linearity\n",
    "        self.fc2 = nn.Linear(hidden_size, output_size)  # output layer\n",
    "    \n",
    "    def forward(self, x):\n",
    "        # We need to flatten the input images from their shape of [batch_size, 1, 28, 28] \n",
    "        # to a shape of [batch_size, 784] so they can be processed by the linear layer.\n",
    "        \n",
    "        # The flatten() method is used here to achieve this. It flattens all dimensions\n",
    "        # starting from `start_dim` (which is 1, corresponding to the channel dimension).\n",
    "        # This converts the [1, 28, 28] part of the tensor into a single dimension of 784.\n",
    "        x = x.flatten(start_dim=1)\n",
    "\n",
    "        # Alternatively, you could use the view() method, which requires you to\n",
    "        # explicitly state the new dimensions. The -1 is a special placeholder\n",
    "        # that tells PyTorch to automatically figure out the batch size.\n",
    "        # x = x.view(-1, 28 * 28)\n",
    "        \n",
    "        # Pass the flattened data through the layers.\n",
    "        x = self.fc1(x)\n",
    "        x = self.relu(x)\n",
    "        x = self.fc2(x)\n",
    "        return x"
   ]
  },
  {
   "cell_type": "code",
   "execution_count": 45,
   "id": "d9f1bfd8",
   "metadata": {},
   "outputs": [],
   "source": [
    "model = MNISTCLASSIFICATION(input_size=784, hidden_size=128,output_size=10)"
   ]
  },
  {
   "cell_type": "code",
   "execution_count": 46,
   "id": "9ed855f8",
   "metadata": {},
   "outputs": [
    {
     "data": {
      "text/plain": [
       "OrderedDict([('fc1.weight',\n",
       "              tensor([[ 0.0285, -0.0232, -0.0070,  ...,  0.0306, -0.0103, -0.0163],\n",
       "                      [-0.0157,  0.0030,  0.0111,  ..., -0.0077,  0.0101, -0.0174],\n",
       "                      [ 0.0099,  0.0085, -0.0068,  ...,  0.0148, -0.0075,  0.0308],\n",
       "                      ...,\n",
       "                      [ 0.0100, -0.0163, -0.0166,  ...,  0.0023,  0.0245, -0.0059],\n",
       "                      [-0.0030,  0.0275,  0.0151,  ..., -0.0103,  0.0168, -0.0236],\n",
       "                      [ 0.0310,  0.0038,  0.0049,  ...,  0.0225,  0.0354, -0.0275]])),\n",
       "             ('fc1.bias',\n",
       "              tensor([-6.4277e-03, -3.4262e-02, -1.1843e-02, -2.8373e-02,  2.8005e-02,\n",
       "                      -4.0876e-03,  2.8891e-02, -7.8520e-03,  1.3585e-02,  2.1573e-02,\n",
       "                      -3.2973e-02,  3.4032e-02, -1.3503e-02, -3.1920e-02,  2.3605e-02,\n",
       "                      -9.8153e-03, -3.1379e-02, -1.6403e-03,  6.9767e-03, -3.3418e-02,\n",
       "                      -2.3790e-02, -7.6082e-03,  3.0291e-03, -8.9506e-03,  3.1976e-02,\n",
       "                       2.0692e-02, -2.8905e-02,  3.1090e-02, -2.0859e-02, -3.1435e-02,\n",
       "                      -3.1008e-02, -2.0983e-02,  2.4233e-02,  3.5270e-02,  2.1716e-02,\n",
       "                      -5.9539e-03,  1.1825e-02,  2.1301e-02,  4.3344e-03, -6.0923e-03,\n",
       "                       2.8075e-02, -1.4788e-02, -1.1575e-03,  2.7711e-02, -3.1654e-02,\n",
       "                       2.4916e-02, -7.7281e-05,  2.3668e-02,  3.3682e-02,  6.7146e-03,\n",
       "                      -2.8045e-02,  2.4965e-02,  1.4779e-02,  1.9254e-02, -9.0789e-03,\n",
       "                       8.1094e-03,  1.6963e-02, -3.5195e-02, -1.8944e-02, -3.3122e-02,\n",
       "                       1.8296e-02,  6.3567e-03, -1.1996e-02,  4.7158e-03, -2.1074e-02,\n",
       "                      -1.5477e-02, -5.5997e-03, -3.2663e-02,  1.1829e-02, -1.5156e-02,\n",
       "                       1.4134e-02, -2.7761e-02,  2.6188e-02, -1.9984e-02,  2.5894e-02,\n",
       "                       3.3128e-02,  3.3406e-02, -3.9271e-03, -1.0964e-02, -7.1528e-03,\n",
       "                      -1.0096e-02,  2.4282e-02,  1.8380e-02,  1.7893e-03, -1.3301e-02,\n",
       "                      -3.2995e-02,  2.4209e-02, -2.7337e-02,  3.4584e-02,  2.9102e-02,\n",
       "                      -7.5675e-03, -8.4747e-03,  2.8297e-02, -2.8060e-02, -7.9578e-03,\n",
       "                      -2.5296e-02,  2.8575e-02,  2.2180e-02,  3.5351e-02, -1.9399e-02,\n",
       "                       1.7971e-02, -3.4747e-02,  2.1324e-02, -1.3620e-02, -3.0144e-02,\n",
       "                      -2.6114e-02,  4.8018e-03, -2.0665e-02,  1.1229e-02, -9.2897e-03,\n",
       "                       2.9736e-02,  3.5842e-03, -1.5047e-02,  1.8195e-02, -2.8594e-02,\n",
       "                      -8.4142e-03,  2.3754e-02,  3.3343e-02, -1.3645e-02, -3.3169e-02,\n",
       "                      -2.0932e-02,  1.3033e-02, -2.6669e-02, -3.3109e-02,  1.8899e-02,\n",
       "                      -1.6986e-02, -2.8396e-02, -3.0435e-02])),\n",
       "             ('fc2.weight',\n",
       "              tensor([[-0.0451, -0.0671, -0.0738,  ...,  0.0052, -0.0482,  0.0040],\n",
       "                      [-0.0325, -0.0571, -0.0525,  ...,  0.0101,  0.0165, -0.0328],\n",
       "                      [-0.0185, -0.0692,  0.0145,  ..., -0.0059,  0.0547, -0.0331],\n",
       "                      ...,\n",
       "                      [-0.0184, -0.0474,  0.0236,  ..., -0.0740,  0.0355, -0.0788],\n",
       "                      [ 0.0245,  0.0564,  0.0631,  ...,  0.0579, -0.0446,  0.0883],\n",
       "                      [-0.0769,  0.0804,  0.0474,  ..., -0.0290, -0.0810,  0.0539]])),\n",
       "             ('fc2.bias',\n",
       "              tensor([-0.0423,  0.0066, -0.0862, -0.0500,  0.0122, -0.0435,  0.0071, -0.0832,\n",
       "                      -0.0155,  0.0435]))])"
      ]
     },
     "execution_count": 46,
     "metadata": {},
     "output_type": "execute_result"
    }
   ],
   "source": [
    "model.state_dict()"
   ]
  },
  {
   "cell_type": "markdown",
   "id": "59d405f0",
   "metadata": {},
   "source": [
    "### Loss fn and optimizer"
   ]
  },
  {
   "cell_type": "code",
   "execution_count": null,
   "id": "dba679db",
   "metadata": {},
   "outputs": [],
   "source": [
    "loss_fn = nn.CrossEntropyLoss()\n",
    "\n",
    "learning_rate = 0.01\n",
    "optimizer = optim.SGD(params=model.parameters(),lr=learning_rate)"
   ]
  },
  {
   "cell_type": "markdown",
   "id": "549b7688",
   "metadata": {},
   "source": [
    "### Training the  model"
   ]
  },
  {
   "cell_type": "code",
   "execution_count": 50,
   "id": "6e6b5521",
   "metadata": {},
   "outputs": [
    {
     "name": "stderr",
     "output_type": "stream",
     "text": [
      " 20%|██        | 10/50 [01:39<06:36,  9.92s/it]"
     ]
    },
    {
     "name": "stdout",
     "output_type": "stream",
     "text": [
      "Epoch: 10/50 | Loss: 0.2088\n"
     ]
    },
    {
     "name": "stderr",
     "output_type": "stream",
     "text": [
      " 40%|████      | 20/50 [03:20<05:04, 10.15s/it]"
     ]
    },
    {
     "name": "stdout",
     "output_type": "stream",
     "text": [
      "Epoch: 20/50 | Loss: 0.0881\n"
     ]
    },
    {
     "name": "stderr",
     "output_type": "stream",
     "text": [
      " 60%|██████    | 30/50 [05:04<03:28, 10.43s/it]"
     ]
    },
    {
     "name": "stdout",
     "output_type": "stream",
     "text": [
      "Epoch: 30/50 | Loss: 0.2265\n"
     ]
    },
    {
     "name": "stderr",
     "output_type": "stream",
     "text": [
      " 80%|████████  | 40/50 [06:44<01:40, 10.02s/it]"
     ]
    },
    {
     "name": "stdout",
     "output_type": "stream",
     "text": [
      "Epoch: 40/50 | Loss: 0.0327\n"
     ]
    },
    {
     "name": "stderr",
     "output_type": "stream",
     "text": [
      "100%|██████████| 50/50 [08:24<00:00, 10.09s/it]"
     ]
    },
    {
     "name": "stdout",
     "output_type": "stream",
     "text": [
      "Epoch: 50/50 | Loss: 0.0297\n"
     ]
    },
    {
     "name": "stderr",
     "output_type": "stream",
     "text": [
      "\n"
     ]
    }
   ],
   "source": [
    "epochs = 50\n",
    "model.to(device)\n",
    "\n",
    "for epoch in tqdm(range(epochs)):\n",
    "    # 1. model set to train mode (track gradients)\n",
    "    model.train()\n",
    "    \n",
    "    for batch_idx, (X, y) in enumerate(train_loader):\n",
    "        # Send data to device\n",
    "        X, y = X.to(device), y.to(device)\n",
    "\n",
    "        # 2. forward pass\n",
    "        y_pred = model(X.view(X.size(0), -1))  # flatten for Linear\n",
    "\n",
    "        # 3. calc the loss\n",
    "        loss = loss_fn(y_pred, y)\n",
    "\n",
    "        # 4. backward pass\n",
    "        optimizer.zero_grad()\n",
    "        loss.backward()\n",
    "\n",
    "        # 5. optimizer step (update params)   \n",
    "        optimizer.step()\n",
    "\n",
    "    # Log every 10 epochs\n",
    "    if (epoch + 1) % 10 == 0:\n",
    "        print(f\"Epoch: {epoch+1}/{epochs} | Loss: {loss.item():.4f}\")\n"
   ]
  },
  {
   "cell_type": "markdown",
   "id": "07773607",
   "metadata": {},
   "source": [
    "### inference "
   ]
  },
  {
   "cell_type": "code",
   "execution_count": 51,
   "id": "76467b35",
   "metadata": {},
   "outputs": [
    {
     "name": "stdout",
     "output_type": "stream",
     "text": [
      "\n",
      "Test Accuracy: 97.52%\n"
     ]
    }
   ],
   "source": [
    "model.eval()  # set to evaluation mode\n",
    "\n",
    "with torch.inference_mode():  # no gradients\n",
    "    correct = 0\n",
    "    total = 0\n",
    "\n",
    "    for images, labels in test_loader:\n",
    "        images, labels = images.to(device), labels.to(device)\n",
    "\n",
    "        # forward pass\n",
    "        outputs = model(images.flatten(start_dim=1))\n",
    "\n",
    "        # get predicted class (index of max logit)\n",
    "        predicted = outputs.argmax(dim=1)\n",
    "\n",
    "        # update counts\n",
    "        total += labels.size(0)\n",
    "        correct += (predicted == labels).sum().item()\n",
    "\n",
    "    accuracy = 100 * correct / total\n",
    "    print(f\"\\nTest Accuracy: {accuracy:.2f}%\")\n"
   ]
  },
  {
   "cell_type": "code",
   "execution_count": 54,
   "id": "84933e98",
   "metadata": {},
   "outputs": [
    {
     "data": {
      "image/png": "[encoded data removed]",
      "text/plain": [
       "<Figure size 640x480 with 1 Axes>"
      ]
     },
     "metadata": {},
     "output_type": "display_data"
    }
   ],
   "source": [
    "model.eval()\n",
    "with torch.inference_mode():\n",
    "    for images, labels in test_loader:\n",
    "        images, labels = images.to(device), labels.to(device)\n",
    "        outputs = model(images.view(images.size(0), -1))\n",
    "        _, predicted = torch.max(outputs.data, 1)\n",
    "\n",
    "        # Find the indices of incorrect predictions\n",
    "        incorrect_indices = (predicted != labels).nonzero(as_tuple=True)[0]\n",
    "        \n",
    "        if len(incorrect_indices) > 0:\n",
    "            # Let's plot the first incorrect prediction we find\n",
    "            first_incorrect_idx = incorrect_indices[0]\n",
    "            \n",
    "            # Reverse normalization for visualization\n",
    "            img_tensor = images[first_incorrect_idx].cpu() * 0.5 + 0.5\n",
    "            img_np = img_tensor.squeeze().numpy()\n",
    "\n",
    "            plt.imshow(img_np, cmap='gray')\n",
    "            plt.title(f\"Predicted: {predicted[first_incorrect_idx].item()}, Actual: {labels[first_incorrect_idx].item()}\")\n",
    "            plt.show()\n",
    "            break  # Exit the loop after showing one incorrect prediction"
   ]
  }
 ],
 "metadata": {
  "kernelspec": {
   "display_name": "Python 3",
   "language": "python",
   "name": "python3"
  },
  "language_info": {
   "codemirror_mode": {
    "name": "ipython",
    "version": 3
   },
   "file_extension": ".py",
   "mimetype": "text/x-python",
   "name": "python",
   "nbconvert_exporter": "python",
   "pygments_lexer": "ipython3",
   "version": "3.11.1"
  }
 },
 "nbformat": 4,
 "nbformat_minor": 5
}
