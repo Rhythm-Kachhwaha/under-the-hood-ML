{
 "cells": [
  {
   "cell_type": "markdown",
   "id": "b7da87f4",
   "metadata": {},
   "source": [
    "### 🎯 **Goal of Softmax Regression on MNIST**\n",
    "\n",
    "* **Problem Type:** Multi-class classification (10 classes: digits 0–9).\n",
    "* **Objective:** Learn a **linear mapping + softmax** that predicts which digit an image belongs to.\n",
    "\n",
    "  * It’s the **baseline model** for multi-class classification.\n",
    "  * It tests if our data pipeline + math (softmax + cross-entropy) are implemented correctly.\n",
    "  * Gives a benchmark (\\~92% accuracy) before moving to deeper models like MLPs or CNNs.\n",
    "\n",
    "Think of it as:\n",
    "👉 \"Given a handwritten digit image, can my model correctly classify it into one of the 10 categories using just a linear transformation + softmax?\"\n"
   ]
  },
  {
   "cell_type": "code",
   "execution_count": 21,
   "id": "1def725e",
   "metadata": {},
   "outputs": [],
   "source": [
    "import numpy as np\n",
    "import matplotlib.pyplot as plt\n",
    "import math\n",
    "import sklearn\n",
    "import tqdm"
   ]
  },
  {
   "cell_type": "markdown",
   "id": "7c2c6c63",
   "metadata": {},
   "source": [
    "### Data prep"
   ]
  },
  {
   "cell_type": "code",
   "execution_count": 22,
   "id": "9e7b8b2d",
   "metadata": {},
   "outputs": [],
   "source": [
    "from sklearn.datasets import fetch_openml\n",
    "X, y = fetch_openml('mnist_784', version=1, return_X_y=True)"
   ]
  },
  {
   "cell_type": "code",
   "execution_count": 23,
   "id": "f68b9875",
   "metadata": {},
   "outputs": [
    {
     "name": "stdout",
     "output_type": "stream",
     "text": [
      "X shape: (70000, 784)\n",
      "y shape: (70000,)\n",
      "X size: 54880000\n",
      "y size: 70000\n"
     ]
    }
   ],
   "source": [
    "print(f\"X shape: {X.shape}\") \n",
    "print(f\"y shape: {y.shape}\")\n",
    "print(f\"X size: {X.size}\")\n",
    "print(f\"y size: {y.size}\")"
   ]
  },
  {
   "cell_type": "code",
   "execution_count": 24,
   "id": "93dd887d",
   "metadata": {},
   "outputs": [],
   "source": [
    "from sklearn.model_selection import train_test_split\n",
    "X_train, X_test, y_train, y_test = train_test_split(X, y, train_size=0.8) "
   ]
  },
  {
   "cell_type": "code",
   "execution_count": 25,
   "id": "f3ad9676",
   "metadata": {},
   "outputs": [
    {
     "name": "stdout",
     "output_type": "stream",
     "text": [
      "X train : 56000\n",
      "y train : 56000\n",
      "y test : 14000\n",
      "y test : 14000\n"
     ]
    }
   ],
   "source": [
    "print(f\"X train : {len(X_train)}\")\n",
    "print(f\"y train : {len(y_train)}\")\n",
    "print(f\"y test : {len(X_test)}\")\n",
    "print(f\"y test : {len(y_test)}\")"
   ]
  },
  {
   "cell_type": "markdown",
   "id": "c3b46354",
   "metadata": {},
   "source": [
    "### Visualize"
   ]
  },
  {
   "cell_type": "code",
   "execution_count": 26,
   "id": "9fda7d93",
   "metadata": {},
   "outputs": [],
   "source": [
    "X_train_reshaped = X_train.values.reshape(-1,28,28)\n",
    "y_train_labels = y_train.values"
   ]
  },
  {
   "cell_type": "code",
   "execution_count": 27,
   "id": "57abbfbe",
   "metadata": {},
   "outputs": [
    {
     "data": {
      "image/png": "[encoded data removed]",
      "text/plain": [
       "<Figure size 1500x300 with 10 Axes>"
      ]
     },
     "metadata": {},
     "output_type": "display_data"
    }
   ],
   "source": [
    "def visualize_images(images, labels, num_images = 10):\n",
    "    \"\"\"Args:\n",
    "        images (np.ndarray): The dataset of images (e.g., X_train_reshaped).\n",
    "        labels (np.ndarray): The corresponding labels (e.g., y_train_labels).\n",
    "        num_images (int): The number of images to display.\n",
    "    \"\"\"\n",
    "    fig, axes = plt.subplots(1, num_images, figsize = (15,3))\n",
    "    for i, ax in enumerate(axes):\n",
    "        ax.imshow(images[i], cmap='gray')\n",
    "\n",
    "        # Set the title to the corresponding label\n",
    "        ax.set_title(f'Label: {labels[i]}')\n",
    "\n",
    "        # Turn off the axes for a cleaner look\n",
    "        ax.axis('off')\n",
    "\n",
    "    plt.tight_layout()\n",
    "    plt.show()\n",
    "\n",
    "visualize_images(X_train_reshaped, y_train_labels, num_images=10)"
   ]
  },
  {
   "cell_type": "code",
   "execution_count": 30,
   "id": "1dfaf946",
   "metadata": {},
   "outputs": [],
   "source": [
    "from tqdm import tqdm"
   ]
  },
  {
   "cell_type": "code",
   "execution_count": 32,
   "id": "db4c22e9",
   "metadata": {},
   "outputs": [],
   "source": [
    "class MNISTCLASSIFICATION:\n",
    "    \"\"\"\n",
    "    A simple two layer neural network for MNIST classifiation\n",
    "    \"\"\"\n",
    "\n",
    "    def __init__(self,input_size,hidden_size, output_size):\n",
    "        \"\"\"\n",
    "        Initializes the weights and biases of the neural network.\n",
    "\n",
    "        Args:\n",
    "            input_size (int): The number of features in the input data (e.g., 784 for MNIST).\n",
    "            hidden_size (int): The number of neurons in the hidden layer.\n",
    "            output_size (int): The number of classes (e.g., 10 for digits 0-9).\n",
    "        \"\"\"\n",
    "        self.W1 = np.random.randn(input_size, hidden_size)\n",
    "        self.b1 = np.zeros((1,hidden_size))\n",
    "\n",
    "        self.W2 = np.random.randn(hidden_size,output_size)\n",
    "        self.b2 = np.zeros((1, output_size))\n",
    "    \n",
    "    def relu(self,z):\n",
    "        ### ReLU activation function\n",
    "        return np.max(0,z)\n",
    "    def relu_derivative(self, z):\n",
    "        \"\"\"\n",
    "        Computes the derivative of the ReLU function.\n",
    "        \"\"\"\n",
    "        return (z > 0).astype(float)\n",
    "    \n",
    "    def softmax(self,z):\n",
    "        exp_z = np.exp(z- np.max(z, axis = 1,keepdims=True))\n",
    "        return exp_z / np.sum(exp_z, axis=1, keepdims=True)\n",
    "    \n",
    "    def forward(self,X):\n",
    "        # layer 1\n",
    "        Z1 = np.dot(X,self.W1) + self.b1\n",
    "        A1 = self.relu(Z1)\n",
    "\n",
    "        #layer 2\n",
    "        Z2 = np.dot(A1, self.W2) + self.b2\n",
    "        A2 = self.softmax(Z2)\n",
    "\n",
    "        return Z1, A1, Z2\n",
    "    \n",
    "    def compute_loss(self, y, y_hat):\n",
    "        \"\"\"\n",
    "        Computes the cross-entropy loss.\n",
    "        \"\"\"\n",
    "        m = y.shape[0]\n",
    "        # Cross-entropy loss formula\n",
    "        loss = -np.sum(y * np.log(y_hat + 1e-8)) / m\n",
    "        return loss\n",
    "    \n",
    "    def backward(self, X, y, Z1, A1, A2):\n",
    "        \"\"\"\n",
    "        Performs the backward pass to compute gradients.\n",
    "        \n",
    "        Args:\n",
    "            X (np.ndarray): The input data.\n",
    "            y (np.ndarray): The true labels (one-hot encoded).\n",
    "            Z1, A1, A2: Outputs from the forward pass.\n",
    "            \n",
    "        Returns:\n",
    "            tuple: Gradients of the loss with respect to W1, b1, W2, and b2.\n",
    "        \"\"\"\n",
    "        m = X.shape[0]\n",
    "\n",
    "        #o/p gradients\n",
    "    # Output layer gradients\n",
    "        dZ2 = A2 - y  # Simple and elegant derivative for Softmax with Cross-Entropy\n",
    "        dW2 = np.dot(A1.T, dZ2) / m\n",
    "        db2 = np.sum(dZ2, axis=0, keepdims=True) / m\n",
    "\n",
    "        # Hidden layer gradients\n",
    "        dA1 = np.dot(dZ2, self.W2.T)\n",
    "        dZ1 = dA1 * self.relu_derivative(Z1)\n",
    "        dW1 = np.dot(X.T, dZ1) / m\n",
    "        db1 = np.sum(dZ1, axis=0, keepdims=True) / m\n",
    "        \n",
    "        return dW1, db1, dW2, db2\n",
    "\n",
    "    def update_parameters(self, dW1, db1, dW2, db2, learning_rate):\n",
    "        \"\"\"\n",
    "        Updates the weights and biases using gradient descent.\n",
    "        \"\"\"\n",
    "        self.W1 -= learning_rate * dW1\n",
    "        self.b1 -= learning_rate * db1\n",
    "        self.W2 -= learning_rate * dW2\n",
    "        self.b2 -= learning_rate * db2\n",
    "    \n",
    "    def train(self,X_train,y_train,epochs,learning_rate):\n",
    "        # One-hot encode the labels\n",
    "        num_classes = self.W2.shape[1]\n",
    "        y_train_one_hot = np.eye(num_classes)[y_train.astype(int)]\n",
    "        for epoch in tqdm(range(epochs), desc=\"Training Progress\"):\n",
    "            # Forward pass\n",
    "            Z1, A1, A2 = self.forward(X_train)\n",
    "\n",
    "            # Compute loss\n",
    "            loss = self.compute_loss(y_train_one_hot, A2)\n",
    "            \n",
    "            # Backward pass (compute gradients)\n",
    "            dW1, db1, dW2, db2 = self.backward(X_train, y_train_one_hot, Z1, A1, A2)\n",
    "\n",
    "            # Update parameters\n",
    "            self.update_parameters(dW1, db1, dW2, db2, learning_rate)\n",
    "\n",
    "            # Print loss every 10 epochs\n",
    "            if (epoch + 1) % 10 == 0:\n",
    "                print(f\"Epoch {epoch + 1}/{epochs}, Loss: {loss:.4f}\")\n",
    "    "
   ]
  },
  {
   "cell_type": "code",
   "execution_count": 33,
   "id": "85efb175",
   "metadata": {},
   "outputs": [
    {
     "name": "stdout",
     "output_type": "stream",
     "text": [
      "Starting training...\n"
     ]
    },
    {
     "name": "stderr",
     "output_type": "stream",
     "text": [
      "Training Progress:   0%|          | 0/50 [00:00<?, ?it/s]\n"
     ]
    },
    {
     "ename": "TypeError",
     "evalue": "only integer scalar arrays can be converted to a scalar index",
     "output_type": "error",
     "traceback": [
      "\u001b[1;31m---------------------------------------------------------------------------\u001b[0m",
      "\u001b[1;31mTypeError\u001b[0m                                 Traceback (most recent call last)",
      "Cell \u001b[1;32mIn[33], line 13\u001b[0m\n\u001b[0;32m     11\u001b[0m \u001b[38;5;66;03m# Run the training loop\u001b[39;00m\n\u001b[0;32m     12\u001b[0m \u001b[38;5;28mprint\u001b[39m(\u001b[38;5;124m\"\u001b[39m\u001b[38;5;124mStarting training...\u001b[39m\u001b[38;5;124m\"\u001b[39m)\n\u001b[1;32m---> 13\u001b[0m \u001b[43mmodel\u001b[49m\u001b[38;5;241;43m.\u001b[39;49m\u001b[43mtrain\u001b[49m\u001b[43m(\u001b[49m\u001b[43mX_train\u001b[49m\u001b[38;5;241;43m.\u001b[39;49m\u001b[43mvalues\u001b[49m\u001b[43m,\u001b[49m\u001b[43m \u001b[49m\u001b[43my_train\u001b[49m\u001b[38;5;241;43m.\u001b[39;49m\u001b[43mvalues\u001b[49m\u001b[43m,\u001b[49m\u001b[43m \u001b[49m\u001b[43mepochs\u001b[49m\u001b[43m,\u001b[49m\u001b[43m \u001b[49m\u001b[43mlearning_rate\u001b[49m\u001b[43m)\u001b[49m\n\u001b[0;32m     14\u001b[0m \u001b[38;5;28mprint\u001b[39m(\u001b[38;5;124m\"\u001b[39m\u001b[38;5;124mTraining finished!\u001b[39m\u001b[38;5;124m\"\u001b[39m)\n",
      "Cell \u001b[1;32mIn[32], line 97\u001b[0m, in \u001b[0;36mMNISTCLASSIFICATION.train\u001b[1;34m(self, X_train, y_train, epochs, learning_rate)\u001b[0m\n\u001b[0;32m     94\u001b[0m y_train_one_hot \u001b[38;5;241m=\u001b[39m np\u001b[38;5;241m.\u001b[39meye(num_classes)[y_train\u001b[38;5;241m.\u001b[39mastype(\u001b[38;5;28mint\u001b[39m)]\n\u001b[0;32m     95\u001b[0m \u001b[38;5;28;01mfor\u001b[39;00m epoch \u001b[38;5;129;01min\u001b[39;00m tqdm(\u001b[38;5;28mrange\u001b[39m(epochs), desc\u001b[38;5;241m=\u001b[39m\u001b[38;5;124m\"\u001b[39m\u001b[38;5;124mTraining Progress\u001b[39m\u001b[38;5;124m\"\u001b[39m):\n\u001b[0;32m     96\u001b[0m     \u001b[38;5;66;03m# Forward pass\u001b[39;00m\n\u001b[1;32m---> 97\u001b[0m     Z1, A1, A2 \u001b[38;5;241m=\u001b[39m \u001b[38;5;28;43mself\u001b[39;49m\u001b[38;5;241;43m.\u001b[39;49m\u001b[43mforward\u001b[49m\u001b[43m(\u001b[49m\u001b[43mX_train\u001b[49m\u001b[43m)\u001b[49m\n\u001b[0;32m     99\u001b[0m     \u001b[38;5;66;03m# Compute loss\u001b[39;00m\n\u001b[0;32m    100\u001b[0m     loss \u001b[38;5;241m=\u001b[39m \u001b[38;5;28mself\u001b[39m\u001b[38;5;241m.\u001b[39mcompute_loss(y_train_one_hot, A2)\n",
      "Cell \u001b[1;32mIn[32], line 37\u001b[0m, in \u001b[0;36mMNISTCLASSIFICATION.forward\u001b[1;34m(self, X)\u001b[0m\n\u001b[0;32m     34\u001b[0m \u001b[38;5;28;01mdef\u001b[39;00m \u001b[38;5;21mforward\u001b[39m(\u001b[38;5;28mself\u001b[39m,X):\n\u001b[0;32m     35\u001b[0m     \u001b[38;5;66;03m# layer 1\u001b[39;00m\n\u001b[0;32m     36\u001b[0m     Z1 \u001b[38;5;241m=\u001b[39m np\u001b[38;5;241m.\u001b[39mdot(X,\u001b[38;5;28mself\u001b[39m\u001b[38;5;241m.\u001b[39mW1) \u001b[38;5;241m+\u001b[39m \u001b[38;5;28mself\u001b[39m\u001b[38;5;241m.\u001b[39mb1\n\u001b[1;32m---> 37\u001b[0m     A1 \u001b[38;5;241m=\u001b[39m \u001b[38;5;28;43mself\u001b[39;49m\u001b[38;5;241;43m.\u001b[39;49m\u001b[43mrelu\u001b[49m\u001b[43m(\u001b[49m\u001b[43mZ1\u001b[49m\u001b[43m)\u001b[49m\n\u001b[0;32m     39\u001b[0m     \u001b[38;5;66;03m#layer 2\u001b[39;00m\n\u001b[0;32m     40\u001b[0m     Z2 \u001b[38;5;241m=\u001b[39m np\u001b[38;5;241m.\u001b[39mdot(A1, \u001b[38;5;28mself\u001b[39m\u001b[38;5;241m.\u001b[39mW2) \u001b[38;5;241m+\u001b[39m \u001b[38;5;28mself\u001b[39m\u001b[38;5;241m.\u001b[39mb2\n",
      "Cell \u001b[1;32mIn[32], line 23\u001b[0m, in \u001b[0;36mMNISTCLASSIFICATION.relu\u001b[1;34m(self, z)\u001b[0m\n\u001b[0;32m     21\u001b[0m \u001b[38;5;28;01mdef\u001b[39;00m \u001b[38;5;21mrelu\u001b[39m(\u001b[38;5;28mself\u001b[39m,z):\n\u001b[0;32m     22\u001b[0m     \u001b[38;5;66;03m### ReLU activation function\u001b[39;00m\n\u001b[1;32m---> 23\u001b[0m     \u001b[38;5;28;01mreturn\u001b[39;00m \u001b[43mnp\u001b[49m\u001b[38;5;241;43m.\u001b[39;49m\u001b[43mmax\u001b[49m\u001b[43m(\u001b[49m\u001b[38;5;241;43m0\u001b[39;49m\u001b[43m,\u001b[49m\u001b[43mz\u001b[49m\u001b[43m)\u001b[49m\n",
      "File \u001b[1;32mc:\\Users\\Rhythm\\AppData\\Local\\Programs\\Python\\Python311\\Lib\\site-packages\\numpy\\core\\fromnumeric.py:2810\u001b[0m, in \u001b[0;36mmax\u001b[1;34m(a, axis, out, keepdims, initial, where)\u001b[0m\n\u001b[0;32m   2692\u001b[0m \u001b[38;5;129m@array_function_dispatch\u001b[39m(_max_dispatcher)\n\u001b[0;32m   2693\u001b[0m \u001b[38;5;129m@set_module\u001b[39m(\u001b[38;5;124m'\u001b[39m\u001b[38;5;124mnumpy\u001b[39m\u001b[38;5;124m'\u001b[39m)\n\u001b[0;32m   2694\u001b[0m \u001b[38;5;28;01mdef\u001b[39;00m \u001b[38;5;21mmax\u001b[39m(a, axis\u001b[38;5;241m=\u001b[39m\u001b[38;5;28;01mNone\u001b[39;00m, out\u001b[38;5;241m=\u001b[39m\u001b[38;5;28;01mNone\u001b[39;00m, keepdims\u001b[38;5;241m=\u001b[39mnp\u001b[38;5;241m.\u001b[39m_NoValue, initial\u001b[38;5;241m=\u001b[39mnp\u001b[38;5;241m.\u001b[39m_NoValue,\n\u001b[0;32m   2695\u001b[0m          where\u001b[38;5;241m=\u001b[39mnp\u001b[38;5;241m.\u001b[39m_NoValue):\n\u001b[0;32m   2696\u001b[0m \u001b[38;5;250m    \u001b[39m\u001b[38;5;124;03m\"\"\"\u001b[39;00m\n\u001b[0;32m   2697\u001b[0m \u001b[38;5;124;03m    Return the maximum of an array or maximum along an axis.\u001b[39;00m\n\u001b[0;32m   2698\u001b[0m \n\u001b[1;32m   (...)\u001b[0m\n\u001b[0;32m   2808\u001b[0m \u001b[38;5;124;03m    5\u001b[39;00m\n\u001b[0;32m   2809\u001b[0m \u001b[38;5;124;03m    \"\"\"\u001b[39;00m\n\u001b[1;32m-> 2810\u001b[0m     \u001b[38;5;28;01mreturn\u001b[39;00m \u001b[43m_wrapreduction\u001b[49m\u001b[43m(\u001b[49m\u001b[43ma\u001b[49m\u001b[43m,\u001b[49m\u001b[43m \u001b[49m\u001b[43mnp\u001b[49m\u001b[38;5;241;43m.\u001b[39;49m\u001b[43mmaximum\u001b[49m\u001b[43m,\u001b[49m\u001b[43m \u001b[49m\u001b[38;5;124;43m'\u001b[39;49m\u001b[38;5;124;43mmax\u001b[39;49m\u001b[38;5;124;43m'\u001b[39;49m\u001b[43m,\u001b[49m\u001b[43m \u001b[49m\u001b[43maxis\u001b[49m\u001b[43m,\u001b[49m\u001b[43m \u001b[49m\u001b[38;5;28;43;01mNone\u001b[39;49;00m\u001b[43m,\u001b[49m\u001b[43m \u001b[49m\u001b[43mout\u001b[49m\u001b[43m,\u001b[49m\n\u001b[0;32m   2811\u001b[0m \u001b[43m                          \u001b[49m\u001b[43mkeepdims\u001b[49m\u001b[38;5;241;43m=\u001b[39;49m\u001b[43mkeepdims\u001b[49m\u001b[43m,\u001b[49m\u001b[43m \u001b[49m\u001b[43minitial\u001b[49m\u001b[38;5;241;43m=\u001b[39;49m\u001b[43minitial\u001b[49m\u001b[43m,\u001b[49m\u001b[43m \u001b[49m\u001b[43mwhere\u001b[49m\u001b[38;5;241;43m=\u001b[39;49m\u001b[43mwhere\u001b[49m\u001b[43m)\u001b[49m\n",
      "File \u001b[1;32mc:\\Users\\Rhythm\\AppData\\Local\\Programs\\Python\\Python311\\Lib\\site-packages\\numpy\\core\\fromnumeric.py:88\u001b[0m, in \u001b[0;36m_wrapreduction\u001b[1;34m(obj, ufunc, method, axis, dtype, out, **kwargs)\u001b[0m\n\u001b[0;32m     85\u001b[0m         \u001b[38;5;28;01melse\u001b[39;00m:\n\u001b[0;32m     86\u001b[0m             \u001b[38;5;28;01mreturn\u001b[39;00m reduction(axis\u001b[38;5;241m=\u001b[39maxis, out\u001b[38;5;241m=\u001b[39mout, \u001b[38;5;241m*\u001b[39m\u001b[38;5;241m*\u001b[39mpasskwargs)\n\u001b[1;32m---> 88\u001b[0m \u001b[38;5;28;01mreturn\u001b[39;00m \u001b[43mufunc\u001b[49m\u001b[38;5;241;43m.\u001b[39;49m\u001b[43mreduce\u001b[49m\u001b[43m(\u001b[49m\u001b[43mobj\u001b[49m\u001b[43m,\u001b[49m\u001b[43m \u001b[49m\u001b[43maxis\u001b[49m\u001b[43m,\u001b[49m\u001b[43m \u001b[49m\u001b[43mdtype\u001b[49m\u001b[43m,\u001b[49m\u001b[43m \u001b[49m\u001b[43mout\u001b[49m\u001b[43m,\u001b[49m\u001b[43m \u001b[49m\u001b[38;5;241;43m*\u001b[39;49m\u001b[38;5;241;43m*\u001b[39;49m\u001b[43mpasskwargs\u001b[49m\u001b[43m)\u001b[49m\n",
      "\u001b[1;31mTypeError\u001b[0m: only integer scalar arrays can be converted to a scalar index"
     ]
    }
   ],
   "source": [
    "# Let's define the model parameters\n",
    "input_size = 784\n",
    "hidden_size = 128\n",
    "output_size = 10\n",
    "epochs = 50\n",
    "learning_rate = 0.01\n",
    "\n",
    "# Instantiate the model\n",
    "model = MNISTCLASSIFICATION(input_size, hidden_size, output_size)\n",
    "\n",
    "# Run the training loop\n",
    "print(\"Starting training...\")\n",
    "model.train(X_train.values, y_train.values, epochs, learning_rate)\n",
    "print(\"Training finished!\")"
   ]
  }
 ],
 "metadata": {
  "kernelspec": {
   "display_name": "Python 3",
   "language": "python",
   "name": "python3"
  },
  "language_info": {
   "codemirror_mode": {
    "name": "ipython",
    "version": 3
   },
   "file_extension": ".py",
   "mimetype": "text/x-python",
   "name": "python",
   "nbconvert_exporter": "python",
   "pygments_lexer": "ipython3",
   "version": "3.11.1"
  }
 },
 "nbformat": 4,
 "nbformat_minor": 5
}
